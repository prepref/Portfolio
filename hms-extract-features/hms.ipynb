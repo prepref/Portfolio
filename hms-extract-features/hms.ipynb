{
 "cells": [
  {
   "cell_type": "markdown",
   "id": "8b1fd63e",
   "metadata": {
    "_cell_guid": "b1076dfc-b9ad-4769-8c92-a6c4dae69d19",
    "_uuid": "8f2839f25d086af736a60e9eeb907d3b93b6e0e5",
    "papermill": {
     "duration": 0.008204,
     "end_time": "2024-09-08T08:09:00.178109",
     "exception": false,
     "start_time": "2024-09-08T08:09:00.169905",
     "status": "completed"
    },
    "tags": []
   },
   "source": [
    "# HMS - Harmful Brain Activity Classification"
   ]
  },
  {
   "cell_type": "markdown",
   "id": "e29562bb",
   "metadata": {
    "papermill": {
     "duration": 0.007118,
     "end_time": "2024-09-08T08:09:00.192955",
     "exception": false,
     "start_time": "2024-09-08T08:09:00.185837",
     "status": "completed"
    },
    "tags": []
   },
   "source": [
    "## Цель\n",
    "Попрактиковаться извлекать признаки с помощью классических методов собственными руками, а также с помощью AutoML методов."
   ]
  },
  {
   "cell_type": "markdown",
   "id": "8e8a4d70",
   "metadata": {
    "papermill": {
     "duration": 0.007055,
     "end_time": "2024-09-08T08:09:00.207593",
     "exception": false,
     "start_time": "2024-09-08T08:09:00.200538",
     "status": "completed"
    },
    "tags": []
   },
   "source": [
    "## Задачи\n",
    "- Попробовать извлечь признаки с помощью преобразования Фурье\n",
    "- Попробовать извлечь признаки с помощью вейвлет анализа\n",
    "- Попробовать извлечь признаки с помощью плотности спектральной мощности\n",
    "- Попробовать извлечь признаки с помощью AutoML\n"
   ]
  },
  {
   "cell_type": "markdown",
   "id": "d3a4417e",
   "metadata": {
    "papermill": {
     "duration": 0.007075,
     "end_time": "2024-09-08T08:09:00.222068",
     "exception": false,
     "start_time": "2024-09-08T08:09:00.214993",
     "status": "completed"
    },
    "tags": []
   },
   "source": [
    "## Замечания\n",
    "В рамках данной задачи, это не является лучшим решением, так как извлечение признаков для этих данных очень дорогостоящий процесс, и такую задачу можно решить более просто, с помощью компьютерного зрения. Поэтому мы просто извлечем первые 5 точек данных, чтобы наглядно показать, какие признаки мы можем получить с помощью классических методов собственными руками, а также с помощью AutoML методов."
   ]
  },
  {
   "cell_type": "code",
   "execution_count": 1,
   "id": "b066f8cd",
   "metadata": {
    "execution": {
     "iopub.execute_input": "2024-09-08T08:09:00.238451Z",
     "iopub.status.busy": "2024-09-08T08:09:00.238050Z",
     "iopub.status.idle": "2024-09-08T08:09:15.066966Z",
     "shell.execute_reply": "2024-09-08T08:09:15.065257Z"
    },
    "papermill": {
     "duration": 14.840373,
     "end_time": "2024-09-08T08:09:15.069803",
     "exception": false,
     "start_time": "2024-09-08T08:09:00.229430",
     "status": "completed"
    },
    "tags": []
   },
   "outputs": [
    {
     "name": "stdout",
     "output_type": "stream",
     "text": [
      "Collecting tsfel\r\n",
      "  Downloading tsfel-0.1.8-py3-none-any.whl.metadata (8.7 kB)\r\n",
      "Requirement already satisfied: ipython>=7.4.0 in /opt/conda/lib/python3.10/site-packages (from tsfel) (8.21.0)\r\n",
      "Requirement already satisfied: numpy>=1.18.5 in /opt/conda/lib/python3.10/site-packages (from tsfel) (1.26.4)\r\n",
      "Requirement already satisfied: pandas>=1.5.3 in /opt/conda/lib/python3.10/site-packages (from tsfel) (2.2.2)\r\n",
      "Requirement already satisfied: PyWavelets>=1.4.1 in /opt/conda/lib/python3.10/site-packages (from tsfel) (1.6.0)\r\n",
      "Requirement already satisfied: requests>=2.31.0 in /opt/conda/lib/python3.10/site-packages (from tsfel) (2.32.3)\r\n",
      "Requirement already satisfied: scikit-learn>=0.21.3 in /opt/conda/lib/python3.10/site-packages (from tsfel) (1.2.2)\r\n",
      "Requirement already satisfied: scipy>=1.7.3 in /opt/conda/lib/python3.10/site-packages (from tsfel) (1.14.0)\r\n",
      "Requirement already satisfied: setuptools>=47.1.1 in /opt/conda/lib/python3.10/site-packages (from tsfel) (70.0.0)\r\n",
      "Requirement already satisfied: statsmodels>=0.12.0 in /opt/conda/lib/python3.10/site-packages (from tsfel) (0.14.2)\r\n",
      "Requirement already satisfied: decorator in /opt/conda/lib/python3.10/site-packages (from ipython>=7.4.0->tsfel) (5.1.1)\r\n",
      "Requirement already satisfied: jedi>=0.16 in /opt/conda/lib/python3.10/site-packages (from ipython>=7.4.0->tsfel) (0.19.1)\r\n",
      "Requirement already satisfied: matplotlib-inline in /opt/conda/lib/python3.10/site-packages (from ipython>=7.4.0->tsfel) (0.1.7)\r\n",
      "Requirement already satisfied: prompt-toolkit<3.1.0,>=3.0.41 in /opt/conda/lib/python3.10/site-packages (from ipython>=7.4.0->tsfel) (3.0.47)\r\n",
      "Requirement already satisfied: pygments>=2.4.0 in /opt/conda/lib/python3.10/site-packages (from ipython>=7.4.0->tsfel) (2.18.0)\r\n",
      "Requirement already satisfied: stack-data in /opt/conda/lib/python3.10/site-packages (from ipython>=7.4.0->tsfel) (0.6.2)\r\n",
      "Requirement already satisfied: traitlets>=5 in /opt/conda/lib/python3.10/site-packages (from ipython>=7.4.0->tsfel) (5.14.3)\r\n",
      "Requirement already satisfied: exceptiongroup in /opt/conda/lib/python3.10/site-packages (from ipython>=7.4.0->tsfel) (1.2.0)\r\n",
      "Requirement already satisfied: pexpect>4.3 in /opt/conda/lib/python3.10/site-packages (from ipython>=7.4.0->tsfel) (4.9.0)\r\n",
      "Requirement already satisfied: python-dateutil>=2.8.2 in /opt/conda/lib/python3.10/site-packages (from pandas>=1.5.3->tsfel) (2.9.0.post0)\r\n",
      "Requirement already satisfied: pytz>=2020.1 in /opt/conda/lib/python3.10/site-packages (from pandas>=1.5.3->tsfel) (2024.1)\r\n",
      "Requirement already satisfied: tzdata>=2022.7 in /opt/conda/lib/python3.10/site-packages (from pandas>=1.5.3->tsfel) (2024.1)\r\n",
      "Requirement already satisfied: charset-normalizer<4,>=2 in /opt/conda/lib/python3.10/site-packages (from requests>=2.31.0->tsfel) (3.3.2)\r\n",
      "Requirement already satisfied: idna<4,>=2.5 in /opt/conda/lib/python3.10/site-packages (from requests>=2.31.0->tsfel) (3.7)\r\n",
      "Requirement already satisfied: urllib3<3,>=1.21.1 in /opt/conda/lib/python3.10/site-packages (from requests>=2.31.0->tsfel) (1.26.18)\r\n",
      "Requirement already satisfied: certifi>=2017.4.17 in /opt/conda/lib/python3.10/site-packages (from requests>=2.31.0->tsfel) (2024.7.4)\r\n",
      "Requirement already satisfied: joblib>=1.1.1 in /opt/conda/lib/python3.10/site-packages (from scikit-learn>=0.21.3->tsfel) (1.4.2)\r\n",
      "Requirement already satisfied: threadpoolctl>=2.0.0 in /opt/conda/lib/python3.10/site-packages (from scikit-learn>=0.21.3->tsfel) (3.5.0)\r\n",
      "Requirement already satisfied: patsy>=0.5.6 in /opt/conda/lib/python3.10/site-packages (from statsmodels>=0.12.0->tsfel) (0.5.6)\r\n",
      "Requirement already satisfied: packaging>=21.3 in /opt/conda/lib/python3.10/site-packages (from statsmodels>=0.12.0->tsfel) (21.3)\r\n",
      "Requirement already satisfied: parso<0.9.0,>=0.8.3 in /opt/conda/lib/python3.10/site-packages (from jedi>=0.16->ipython>=7.4.0->tsfel) (0.8.4)\r\n",
      "Requirement already satisfied: pyparsing!=3.0.5,>=2.0.2 in /opt/conda/lib/python3.10/site-packages (from packaging>=21.3->statsmodels>=0.12.0->tsfel) (3.1.2)\r\n",
      "Requirement already satisfied: six in /opt/conda/lib/python3.10/site-packages (from patsy>=0.5.6->statsmodels>=0.12.0->tsfel) (1.16.0)\r\n",
      "Requirement already satisfied: ptyprocess>=0.5 in /opt/conda/lib/python3.10/site-packages (from pexpect>4.3->ipython>=7.4.0->tsfel) (0.7.0)\r\n",
      "Requirement already satisfied: wcwidth in /opt/conda/lib/python3.10/site-packages (from prompt-toolkit<3.1.0,>=3.0.41->ipython>=7.4.0->tsfel) (0.2.13)\r\n",
      "Requirement already satisfied: executing>=1.2.0 in /opt/conda/lib/python3.10/site-packages (from stack-data->ipython>=7.4.0->tsfel) (2.0.1)\r\n",
      "Requirement already satisfied: asttokens>=2.1.0 in /opt/conda/lib/python3.10/site-packages (from stack-data->ipython>=7.4.0->tsfel) (2.4.1)\r\n",
      "Requirement already satisfied: pure-eval in /opt/conda/lib/python3.10/site-packages (from stack-data->ipython>=7.4.0->tsfel) (0.2.2)\r\n",
      "Downloading tsfel-0.1.8-py3-none-any.whl (61 kB)\r\n",
      "\u001b[2K   \u001b[90m━━━━━━━━━━━━━━━━━━━━━━━━━━━━━━━━━━━━━━━━\u001b[0m \u001b[32m61.1/61.1 kB\u001b[0m \u001b[31m2.4 MB/s\u001b[0m eta \u001b[36m0:00:00\u001b[0m\r\n",
      "\u001b[?25hInstalling collected packages: tsfel\r\n",
      "Successfully installed tsfel-0.1.8\r\n"
     ]
    }
   ],
   "source": [
    "!pip install tsfel"
   ]
  },
  {
   "cell_type": "code",
   "execution_count": 2,
   "id": "f44a9bee",
   "metadata": {
    "execution": {
     "iopub.execute_input": "2024-09-08T08:09:15.089250Z",
     "iopub.status.busy": "2024-09-08T08:09:15.088802Z",
     "iopub.status.idle": "2024-09-08T08:09:18.028305Z",
     "shell.execute_reply": "2024-09-08T08:09:18.026971Z"
    },
    "papermill": {
     "duration": 2.952298,
     "end_time": "2024-09-08T08:09:18.031136",
     "exception": false,
     "start_time": "2024-09-08T08:09:15.078838",
     "status": "completed"
    },
    "tags": []
   },
   "outputs": [],
   "source": [
    "import warnings\n",
    "warnings.filterwarnings('ignore')\n",
    "\n",
    "import os\n",
    "import pandas as pd\n",
    "import numpy as np\n",
    "import seaborn as sns\n",
    "import matplotlib.pyplot as plt\n",
    "\n",
    "from tqdm.autonotebook import tqdm\n",
    "from collections import Counter\n",
    "\n",
    "from scipy.fftpack import fft\n",
    "from scipy.signal import welch, find_peaks\n",
    "from scipy.stats import entropy\n",
    "\n",
    "from sklearn.feature_selection import VarianceThreshold\n",
    "\n",
    "import pywt\n",
    "import tsfel"
   ]
  },
  {
   "cell_type": "markdown",
   "id": "89cc926e",
   "metadata": {
    "papermill": {
     "duration": 0.007914,
     "end_time": "2024-09-08T08:09:18.047478",
     "exception": false,
     "start_time": "2024-09-08T08:09:18.039564",
     "status": "completed"
    },
    "tags": []
   },
   "source": [
    "## Load data"
   ]
  },
  {
   "cell_type": "code",
   "execution_count": 3,
   "id": "e5f0c1de",
   "metadata": {
    "execution": {
     "iopub.execute_input": "2024-09-08T08:09:18.065907Z",
     "iopub.status.busy": "2024-09-08T08:09:18.065301Z",
     "iopub.status.idle": "2024-09-08T08:09:18.328891Z",
     "shell.execute_reply": "2024-09-08T08:09:18.327723Z"
    },
    "papermill": {
     "duration": 0.275942,
     "end_time": "2024-09-08T08:09:18.331741",
     "exception": false,
     "start_time": "2024-09-08T08:09:18.055799",
     "status": "completed"
    },
    "tags": []
   },
   "outputs": [],
   "source": [
    "train = pd.read_csv('/kaggle/input/hms-harmful-brain-activity-classification/train.csv')"
   ]
  },
  {
   "cell_type": "code",
   "execution_count": 4,
   "id": "10454472",
   "metadata": {
    "execution": {
     "iopub.execute_input": "2024-09-08T08:09:18.350335Z",
     "iopub.status.busy": "2024-09-08T08:09:18.349919Z",
     "iopub.status.idle": "2024-09-08T08:09:18.355925Z",
     "shell.execute_reply": "2024-09-08T08:09:18.354605Z"
    },
    "papermill": {
     "duration": 0.018177,
     "end_time": "2024-09-08T08:09:18.358296",
     "exception": false,
     "start_time": "2024-09-08T08:09:18.340119",
     "status": "completed"
    },
    "tags": []
   },
   "outputs": [],
   "source": [
    "train = train.iloc[:5,:]"
   ]
  },
  {
   "cell_type": "code",
   "execution_count": 5,
   "id": "9c101adb",
   "metadata": {
    "execution": {
     "iopub.execute_input": "2024-09-08T08:09:18.377306Z",
     "iopub.status.busy": "2024-09-08T08:09:18.376886Z",
     "iopub.status.idle": "2024-09-08T08:09:18.406578Z",
     "shell.execute_reply": "2024-09-08T08:09:18.405432Z"
    },
    "papermill": {
     "duration": 0.042291,
     "end_time": "2024-09-08T08:09:18.409027",
     "exception": false,
     "start_time": "2024-09-08T08:09:18.366736",
     "status": "completed"
    },
    "tags": []
   },
   "outputs": [
    {
     "data": {
      "text/html": [
       "<div>\n",
       "<style scoped>\n",
       "    .dataframe tbody tr th:only-of-type {\n",
       "        vertical-align: middle;\n",
       "    }\n",
       "\n",
       "    .dataframe tbody tr th {\n",
       "        vertical-align: top;\n",
       "    }\n",
       "\n",
       "    .dataframe thead th {\n",
       "        text-align: right;\n",
       "    }\n",
       "</style>\n",
       "<table border=\"1\" class=\"dataframe\">\n",
       "  <thead>\n",
       "    <tr style=\"text-align: right;\">\n",
       "      <th></th>\n",
       "      <th>eeg_id</th>\n",
       "      <th>eeg_sub_id</th>\n",
       "      <th>eeg_label_offset_seconds</th>\n",
       "      <th>spectrogram_id</th>\n",
       "      <th>spectrogram_sub_id</th>\n",
       "      <th>spectrogram_label_offset_seconds</th>\n",
       "      <th>label_id</th>\n",
       "      <th>patient_id</th>\n",
       "      <th>expert_consensus</th>\n",
       "      <th>seizure_vote</th>\n",
       "      <th>lpd_vote</th>\n",
       "      <th>gpd_vote</th>\n",
       "      <th>lrda_vote</th>\n",
       "      <th>grda_vote</th>\n",
       "      <th>other_vote</th>\n",
       "    </tr>\n",
       "  </thead>\n",
       "  <tbody>\n",
       "    <tr>\n",
       "      <th>0</th>\n",
       "      <td>1628180742</td>\n",
       "      <td>0</td>\n",
       "      <td>0.0</td>\n",
       "      <td>353733</td>\n",
       "      <td>0</td>\n",
       "      <td>0.0</td>\n",
       "      <td>127492639</td>\n",
       "      <td>42516</td>\n",
       "      <td>Seizure</td>\n",
       "      <td>3</td>\n",
       "      <td>0</td>\n",
       "      <td>0</td>\n",
       "      <td>0</td>\n",
       "      <td>0</td>\n",
       "      <td>0</td>\n",
       "    </tr>\n",
       "    <tr>\n",
       "      <th>1</th>\n",
       "      <td>1628180742</td>\n",
       "      <td>1</td>\n",
       "      <td>6.0</td>\n",
       "      <td>353733</td>\n",
       "      <td>1</td>\n",
       "      <td>6.0</td>\n",
       "      <td>3887563113</td>\n",
       "      <td>42516</td>\n",
       "      <td>Seizure</td>\n",
       "      <td>3</td>\n",
       "      <td>0</td>\n",
       "      <td>0</td>\n",
       "      <td>0</td>\n",
       "      <td>0</td>\n",
       "      <td>0</td>\n",
       "    </tr>\n",
       "    <tr>\n",
       "      <th>2</th>\n",
       "      <td>1628180742</td>\n",
       "      <td>2</td>\n",
       "      <td>8.0</td>\n",
       "      <td>353733</td>\n",
       "      <td>2</td>\n",
       "      <td>8.0</td>\n",
       "      <td>1142670488</td>\n",
       "      <td>42516</td>\n",
       "      <td>Seizure</td>\n",
       "      <td>3</td>\n",
       "      <td>0</td>\n",
       "      <td>0</td>\n",
       "      <td>0</td>\n",
       "      <td>0</td>\n",
       "      <td>0</td>\n",
       "    </tr>\n",
       "    <tr>\n",
       "      <th>3</th>\n",
       "      <td>1628180742</td>\n",
       "      <td>3</td>\n",
       "      <td>18.0</td>\n",
       "      <td>353733</td>\n",
       "      <td>3</td>\n",
       "      <td>18.0</td>\n",
       "      <td>2718991173</td>\n",
       "      <td>42516</td>\n",
       "      <td>Seizure</td>\n",
       "      <td>3</td>\n",
       "      <td>0</td>\n",
       "      <td>0</td>\n",
       "      <td>0</td>\n",
       "      <td>0</td>\n",
       "      <td>0</td>\n",
       "    </tr>\n",
       "    <tr>\n",
       "      <th>4</th>\n",
       "      <td>1628180742</td>\n",
       "      <td>4</td>\n",
       "      <td>24.0</td>\n",
       "      <td>353733</td>\n",
       "      <td>4</td>\n",
       "      <td>24.0</td>\n",
       "      <td>3080632009</td>\n",
       "      <td>42516</td>\n",
       "      <td>Seizure</td>\n",
       "      <td>3</td>\n",
       "      <td>0</td>\n",
       "      <td>0</td>\n",
       "      <td>0</td>\n",
       "      <td>0</td>\n",
       "      <td>0</td>\n",
       "    </tr>\n",
       "  </tbody>\n",
       "</table>\n",
       "</div>"
      ],
      "text/plain": [
       "       eeg_id  eeg_sub_id  eeg_label_offset_seconds  spectrogram_id  \\\n",
       "0  1628180742           0                       0.0          353733   \n",
       "1  1628180742           1                       6.0          353733   \n",
       "2  1628180742           2                       8.0          353733   \n",
       "3  1628180742           3                      18.0          353733   \n",
       "4  1628180742           4                      24.0          353733   \n",
       "\n",
       "   spectrogram_sub_id  spectrogram_label_offset_seconds    label_id  \\\n",
       "0                   0                               0.0   127492639   \n",
       "1                   1                               6.0  3887563113   \n",
       "2                   2                               8.0  1142670488   \n",
       "3                   3                              18.0  2718991173   \n",
       "4                   4                              24.0  3080632009   \n",
       "\n",
       "   patient_id expert_consensus  seizure_vote  lpd_vote  gpd_vote  lrda_vote  \\\n",
       "0       42516          Seizure             3         0         0          0   \n",
       "1       42516          Seizure             3         0         0          0   \n",
       "2       42516          Seizure             3         0         0          0   \n",
       "3       42516          Seizure             3         0         0          0   \n",
       "4       42516          Seizure             3         0         0          0   \n",
       "\n",
       "   grda_vote  other_vote  \n",
       "0          0           0  \n",
       "1          0           0  \n",
       "2          0           0  \n",
       "3          0           0  \n",
       "4          0           0  "
      ]
     },
     "execution_count": 5,
     "metadata": {},
     "output_type": "execute_result"
    }
   ],
   "source": [
    "train"
   ]
  },
  {
   "cell_type": "markdown",
   "id": "88b6e950",
   "metadata": {
    "papermill": {
     "duration": 0.008508,
     "end_time": "2024-09-08T08:09:18.426825",
     "exception": false,
     "start_time": "2024-09-08T08:09:18.418317",
     "status": "completed"
    },
    "tags": []
   },
   "source": [
    "## Furior, wavelet, psd features"
   ]
  },
  {
   "cell_type": "code",
   "execution_count": 6,
   "id": "4232f250",
   "metadata": {
    "execution": {
     "iopub.execute_input": "2024-09-08T08:09:18.446430Z",
     "iopub.status.busy": "2024-09-08T08:09:18.445646Z",
     "iopub.status.idle": "2024-09-08T08:09:18.451555Z",
     "shell.execute_reply": "2024-09-08T08:09:18.450392Z"
    },
    "papermill": {
     "duration": 0.018144,
     "end_time": "2024-09-08T08:09:18.453649",
     "exception": false,
     "start_time": "2024-09-08T08:09:18.435505",
     "status": "completed"
    },
    "tags": []
   },
   "outputs": [],
   "source": [
    "# Train eegs\n",
    "Fs_eeg = 200 # Частота дискретизации\n",
    "T_eeg = 1/Fs_eeg # Период\n",
    "N_eeg = 12000 # Число отсчётов\n",
    "\n",
    "# Train spectrograms\n",
    "Fs_spt = 0.5 # Частота дискретизации\n",
    "T_spt = 2 # Период\n",
    "N_spt = 600 # Число отсчётов"
   ]
  },
  {
   "cell_type": "code",
   "execution_count": 7,
   "id": "f2c5cbfc",
   "metadata": {
    "execution": {
     "iopub.execute_input": "2024-09-08T08:09:18.472510Z",
     "iopub.status.busy": "2024-09-08T08:09:18.472114Z",
     "iopub.status.idle": "2024-09-08T08:09:18.486737Z",
     "shell.execute_reply": "2024-09-08T08:09:18.485643Z"
    },
    "papermill": {
     "duration": 0.026748,
     "end_time": "2024-09-08T08:09:18.488940",
     "exception": false,
     "start_time": "2024-09-08T08:09:18.462192",
     "status": "completed"
    },
    "tags": []
   },
   "outputs": [],
   "source": [
    "def get_fft_features(data: pd.DataFrame, Fs: int, N:int) -> tuple:\n",
    "    \"\"\"\n",
    "    Compute the Fourier Transform (FFT) features\n",
    "        \n",
    "    Parametrs:  \n",
    "    data (pd.DataFrame): Input data with shape (n_timeseries, n_features).  \n",
    "    Fs (int): Sampling frequency of the input daata.  \n",
    "    N (int): Number of points in the FFT.  \n",
    "        \n",
    "    Return:  \n",
    "    tuple: A tuple containing two elements:\n",
    "           - f_values (np.ndarray): Array of frequency values.\n",
    "           - fft_values (np.ndarray): Array of FFT magnitudes.\n",
    "    \"\"\"\n",
    "    # Частота Найквиста Fs/2 - максимальная частота, которую можно правильно обнаружить и восстановить при дискретизации сигнала\n",
    "    f_values = np.linspace(0.0, Fs/2, N//2)\n",
    "    \n",
    "    fft_values = fft(data)\n",
    "    fft_values = 2.0/N * np.abs(fft_values[:,:N//2])\n",
    "    \n",
    "    return (f_values, fft_values)\n",
    "\n",
    "def get_psd_features(data: pd.DataFrame, Fs: int) -> tuple:\n",
    "    \"\"\"\n",
    "    Compute the Power Spectral Density (PSD) features\n",
    "        \n",
    "    Parametrs:  \n",
    "    data (pd.DataFrame): Input data with shape (n_timeseries, n_features).  \n",
    "    Fs (int): Sampling frequency of the input data.  \n",
    "      \n",
    "    Return:  \n",
    "    np.ndarray: The psd (Power Spectral Density) features.\n",
    "    \"\"\"\n",
    "    features_dict = {} \n",
    "    f_psd_values, psd_values = welch(data, fs=Fs)\n",
    "    for i in range(len(psd_values)): \n",
    "        peaks, _ = find_peaks(psd_values[i], height=10)\n",
    "\n",
    "        if len(psd_values[i][peaks]) <= 3:\n",
    "            features_dict[f'{data.index[i]}_psd'] = np.sum(psd_values[i][peaks])\n",
    "        else:\n",
    "            ind_part = np.argpartition(psd_values[i][peaks], -3)[-3:]\n",
    "            top_psd_values = np.take_along_axis(psd_values[i][peaks], ind_part, axis=-1)\n",
    "            features_dict[f'{data.index[i]}_psd'] = np.sum(top_psd_values)\n",
    "            \n",
    "    features_df = pd.DataFrame([features_dict])\n",
    "    return (f_psd_values, psd_values, features_df)\n",
    "\n",
    "def get_wavelet_features(data: pd.DataFrame) -> list:\n",
    "    \"\"\"\n",
    "    Compute the wavelet features\n",
    "        \n",
    "    Parametrs:  \n",
    "    data (pd.DataFrame): Input data with shape (n_features, n_timeseries).\n",
    "      \n",
    "    Return:  \n",
    "    np.ndarray: The wavelet features.\n",
    "    \"\"\"\n",
    "    features_dict = {} \n",
    "\n",
    "    for col in data.columns:\n",
    "        feature_wavelet = []\n",
    "\n",
    "        coeffs = pywt.wavedec(data[col],'rbio3.1')\n",
    "        \n",
    "        for i,coeff in enumerate(coeffs):       \n",
    "            cnt_vals = Counter(coeff).most_common()\n",
    "            features_dict[f'{col}{i}_entropy'] = entropy([el[1]/len(cnt_vals) for el in cnt_vals])\n",
    "            features_dict[f'{col}{i}_mean'] = np.nanmean(coeff)\n",
    "            features_dict[f'{col}{i}_std'] = np.nanstd(coeff)\n",
    "            features_dict[f'{col}{i}_rms'] = np.sqrt(np.nanmean(coeff**2))\n",
    "            features_dict[f'{col}{i}_median'] = np.nanmedian(coeff)\n",
    "            \n",
    "    features_df = pd.DataFrame([features_dict])\n",
    "    return features_df"
   ]
  },
  {
   "cell_type": "markdown",
   "id": "c844368c",
   "metadata": {
    "papermill": {
     "duration": 0.008595,
     "end_time": "2024-09-08T08:09:18.506493",
     "exception": false,
     "start_time": "2024-09-08T08:09:18.497898",
     "status": "completed"
    },
    "tags": []
   },
   "source": [
    "<h2>AutoML</h2>"
   ]
  },
  {
   "cell_type": "markdown",
   "id": "782b8fda",
   "metadata": {
    "papermill": {
     "duration": 0.008836,
     "end_time": "2024-09-08T08:09:18.523882",
     "exception": false,
     "start_time": "2024-09-08T08:09:18.515046",
     "status": "completed"
    },
    "tags": []
   },
   "source": [
    "Регистрирующие области электродов ЭЭГ:  \n",
    "- LL - левая латеральная\n",
    "- RL - правая латеральная\n",
    "- LP - левая парасагиттальная\n",
    "- RP - правая парасагиттальная  \n",
    "  \n",
    "Мы имеем 400 временных рядов для этих 4 групп на разных частотах, мы объединим в эти группы, а далее для каждой из них найдем средние значения."
   ]
  },
  {
   "cell_type": "code",
   "execution_count": 8,
   "id": "d3ae3a63",
   "metadata": {
    "execution": {
     "iopub.execute_input": "2024-09-08T08:09:18.543281Z",
     "iopub.status.busy": "2024-09-08T08:09:18.542850Z",
     "iopub.status.idle": "2024-09-08T08:09:18.722244Z",
     "shell.execute_reply": "2024-09-08T08:09:18.720999Z"
    },
    "papermill": {
     "duration": 0.192286,
     "end_time": "2024-09-08T08:09:18.725038",
     "exception": false,
     "start_time": "2024-09-08T08:09:18.532752",
     "status": "completed"
    },
    "tags": []
   },
   "outputs": [],
   "source": [
    "LL_arr = []\n",
    "RL_arr = []\n",
    "LP_arr = []\n",
    "RP_arr = []\n",
    "\n",
    "for col in pd.read_parquet('/kaggle/input/hms-harmful-brain-activity-classification/train_spectrograms/1000086677.parquet'):\n",
    "    if 'LL' in col:\n",
    "        LL_arr.append(col)\n",
    "    if 'RL' in col:\n",
    "        RL_arr.append(col)\n",
    "    if 'LP' in col:\n",
    "        LP_arr.append(col)\n",
    "    if 'RP' in col:\n",
    "        RP_arr.append(col)"
   ]
  },
  {
   "cell_type": "markdown",
   "id": "29af13b9",
   "metadata": {
    "papermill": {
     "duration": 0.008308,
     "end_time": "2024-09-08T08:09:18.742281",
     "exception": false,
     "start_time": "2024-09-08T08:09:18.733973",
     "status": "completed"
    },
    "tags": []
   },
   "source": [
    "Будем использовать библиотеку tsfel, с помощью которой мы сможем автоматически извлечь признаки из временных рядов"
   ]
  },
  {
   "cell_type": "code",
   "execution_count": 9,
   "id": "06d75052",
   "metadata": {
    "execution": {
     "iopub.execute_input": "2024-09-08T08:09:18.761398Z",
     "iopub.status.busy": "2024-09-08T08:09:18.760957Z",
     "iopub.status.idle": "2024-09-08T08:09:18.769788Z",
     "shell.execute_reply": "2024-09-08T08:09:18.768713Z"
    },
    "papermill": {
     "duration": 0.021388,
     "end_time": "2024-09-08T08:09:18.772321",
     "exception": false,
     "start_time": "2024-09-08T08:09:18.750933",
     "status": "completed"
    },
    "tags": []
   },
   "outputs": [],
   "source": [
    "def get_automl_features(data: pd.DataFrame, Fs: float) -> pd.DataFrame:\n",
    "    \"\"\"\n",
    "    Extracts temporal features from the input data using TSFEL (Time Series Feature Extraction Library)\n",
    "    and computes mean values for specified groups of features.\n",
    "\n",
    "    Parameters:\n",
    "    data (pd.DataFrame): Input data with shape (n_timeseries, n_features).\n",
    "    Fs (int): Sampling frequency of the input data.\n",
    "\n",
    "    Returns:\n",
    "    pd.DataFrame: A DataFrame containing the mean values of the extracted features for each specified group.\n",
    "    \"\"\"\n",
    "    cfg = tsfel.get_features_by_domain('temporal')\n",
    "    temp_df = pd.DataFrame()\n",
    "    cols_arr = data.columns\n",
    "    for col in data.columns:\n",
    "        temp_features = tsfel.time_series_features_extractor(cfg, data[col].values, fs=Fs, verbose=0)\n",
    "        temp_df = pd.concat([temp_df, temp_features])\n",
    "        \n",
    "    temp_df.index = data.columns\n",
    "    \n",
    "    # Считаем средние значения для каждой из групп LL, RL, LP, RP\n",
    "    features_dict = {}\n",
    "    \n",
    "    for col in temp_df.columns:\n",
    "        features_dict[f'{col}_LL_mean'] = np.nanmean(temp_df.loc[LL_arr,:].values)\n",
    "        features_dict[f'{col}_RL_mean'] = np.nanmean(temp_df.loc[RL_arr,:].values)\n",
    "        features_dict[f'{col}_LP_mean'] = np.nanmean(temp_df.loc[LP_arr,:].values)\n",
    "        features_dict[f'{col}_RP_mean'] = np.nanmean(temp_df.loc[RP_arr,:].values)\n",
    "    \n",
    "    \n",
    "    features_df = pd.DataFrame([features_dict])\n",
    "    return features_df"
   ]
  },
  {
   "cell_type": "markdown",
   "id": "85fa7c36",
   "metadata": {
    "papermill": {
     "duration": 0.008203,
     "end_time": "2024-09-08T08:09:18.789152",
     "exception": false,
     "start_time": "2024-09-08T08:09:18.780949",
     "status": "completed"
    },
    "tags": []
   },
   "source": [
    "## Get features"
   ]
  },
  {
   "cell_type": "markdown",
   "id": "e8b64c76",
   "metadata": {
    "papermill": {
     "duration": 0.008252,
     "end_time": "2024-09-08T08:09:18.806027",
     "exception": false,
     "start_time": "2024-09-08T08:09:18.797775",
     "status": "completed"
    },
    "tags": []
   },
   "source": [
    "Напишем функцию, с помощью которой мы сможем получить признаки как для ЭЭГ, так и для спектрограмм."
   ]
  },
  {
   "cell_type": "code",
   "execution_count": 10,
   "id": "6bb951f2",
   "metadata": {
    "execution": {
     "iopub.execute_input": "2024-09-08T08:09:18.824894Z",
     "iopub.status.busy": "2024-09-08T08:09:18.824446Z",
     "iopub.status.idle": "2024-09-08T08:09:18.835105Z",
     "shell.execute_reply": "2024-09-08T08:09:18.833791Z"
    },
    "papermill": {
     "duration": 0.023017,
     "end_time": "2024-09-08T08:09:18.837494",
     "exception": false,
     "start_time": "2024-09-08T08:09:18.814477",
     "status": "completed"
    },
    "tags": []
   },
   "outputs": [],
   "source": [
    "TRAIN_EEGS_PATH = '/kaggle/input/hms-harmful-brain-activity-classification/train_eegs/'\n",
    "TRAIN_SPECTROGRAMS_PATH = '/kaggle/input/hms-harmful-brain-activity-classification/train_spectrograms/'\n",
    "\n",
    "def get_all_features(data: pd.DataFrame) -> tuple:\n",
    "    \"\"\"\n",
    "    Extracts and combines various features from EEG data (PSD (Power Spectral Density),\n",
    "    wavelet transforms) and spectrograms data (AutoML) for each row in the input DataFrame.\n",
    "      \n",
    "    Parameters:\n",
    "    data (pd.DataFrame): Input DataFrame containing metadata for each EEG recording.\n",
    "\n",
    "    Returns:\n",
    "    tuple: A tuple containing two elements:\n",
    "           - DataFrame of eeg features.\n",
    "           - DataFrame of spectrogram features.\n",
    "    \"\"\"\n",
    "    all_psd_df = pd.DataFrame()\n",
    "    all_wavelet_df = pd.DataFrame()\n",
    "    all_spectrogram_df = pd.DataFrame()\n",
    "\n",
    "    for row in tqdm(data.iterrows(), total=data.shape[0]):\n",
    "\n",
    "        eeg = pd.read_parquet(f'{TRAIN_EEGS_PATH}{row[1][\"eeg_id\"]}.parquet')\n",
    "\n",
    "        # Время между двумя отсчетами равно периоду T и равно 0.005c\n",
    "        # Найдем начало и конец подвыборки eeg, которая задана для каждой строки\n",
    "        # Достаем признаки из eeg\n",
    "        start_eeg_sub = int(row[1]['eeg_label_offset_seconds']//T_eeg)\n",
    "        end_eeg_sub = int((row[1]['eeg_label_offset_seconds']+50)//T_eeg)\n",
    "        start_eeg_sub = start_eeg_sub - 1 if start_eeg_sub!=0 else 0\n",
    "        eeg = eeg.iloc[start_eeg_sub:end_eeg_sub,:-1]\n",
    "        f_psd_values, psd_values, psd_df = get_psd_features(eeg.T, Fs_eeg)\n",
    "        wavelet_df = get_wavelet_features(eeg)\n",
    "        \n",
    "        # Достаем признаки из spectrogram.\n",
    "        spectrogram = pd.read_parquet(f'{TRAIN_SPECTROGRAMS_PATH}{row[1][\"spectrogram_id\"]}.parquet')\n",
    "        start_spectrogram_sub = int(row[1]['spectrogram_label_offset_seconds']//T_spt)\n",
    "        spectrogram = spectrogram.iloc[start_spectrogram_sub:,1:]\n",
    "        spectrogram_df = get_automl_features(data=spectrogram, Fs=Fs_spt)\n",
    "    \n",
    "        all_spectrogram_df = pd.concat([all_spectrogram_df, spectrogram_df])\n",
    "        all_psd_df = pd.concat([all_psd_df, psd_df])\n",
    "        all_wavelet_df = pd.concat([all_wavelet_df, wavelet_df])\n",
    "    \n",
    "    return (pd.concat([all_wavelet_df, all_psd_df],axis=1), all_spectrogram_df)"
   ]
  },
  {
   "cell_type": "markdown",
   "id": "1bf1ab86",
   "metadata": {
    "papermill": {
     "duration": 0.008396,
     "end_time": "2024-09-08T08:09:18.854620",
     "exception": false,
     "start_time": "2024-09-08T08:09:18.846224",
     "status": "completed"
    },
    "tags": []
   },
   "source": [
    "Почему преобразование Фурье мы не использовали? Потому что преобразования Фурье дает малоинформативную информацию. Возьмем случайную точку данных и посмотрим на неё."
   ]
  },
  {
   "cell_type": "code",
   "execution_count": 11,
   "id": "6a596b0f",
   "metadata": {
    "execution": {
     "iopub.execute_input": "2024-09-08T08:09:18.874736Z",
     "iopub.status.busy": "2024-09-08T08:09:18.873589Z",
     "iopub.status.idle": "2024-09-08T08:09:18.882556Z",
     "shell.execute_reply": "2024-09-08T08:09:18.881460Z"
    },
    "papermill": {
     "duration": 0.021165,
     "end_time": "2024-09-08T08:09:18.884834",
     "exception": false,
     "start_time": "2024-09-08T08:09:18.863669",
     "status": "completed"
    },
    "tags": []
   },
   "outputs": [
    {
     "data": {
      "text/plain": [
       "eeg_id                              1628180742\n",
       "eeg_sub_id                                   4\n",
       "eeg_label_offset_seconds                  24.0\n",
       "spectrogram_id                          353733\n",
       "spectrogram_sub_id                           4\n",
       "spectrogram_label_offset_seconds          24.0\n",
       "label_id                            3080632009\n",
       "patient_id                               42516\n",
       "expert_consensus                       Seizure\n",
       "seizure_vote                                 3\n",
       "lpd_vote                                     0\n",
       "gpd_vote                                     0\n",
       "lrda_vote                                    0\n",
       "grda_vote                                    0\n",
       "other_vote                                   0\n",
       "Name: 4, dtype: object"
      ]
     },
     "execution_count": 11,
     "metadata": {},
     "output_type": "execute_result"
    }
   ],
   "source": [
    "train.iloc[-1,:]"
   ]
  },
  {
   "cell_type": "code",
   "execution_count": 12,
   "id": "0572125e",
   "metadata": {
    "execution": {
     "iopub.execute_input": "2024-09-08T08:09:18.904172Z",
     "iopub.status.busy": "2024-09-08T08:09:18.903709Z",
     "iopub.status.idle": "2024-09-08T08:09:18.957234Z",
     "shell.execute_reply": "2024-09-08T08:09:18.955938Z"
    },
    "papermill": {
     "duration": 0.066285,
     "end_time": "2024-09-08T08:09:18.959884",
     "exception": false,
     "start_time": "2024-09-08T08:09:18.893599",
     "status": "completed"
    },
    "tags": []
   },
   "outputs": [],
   "source": [
    "one_sample = pd.read_parquet(f'{TRAIN_EEGS_PATH}{1628180742}.parquet')\n",
    "\n",
    "start_eeg_sub = int(train.iloc[-1,:]['eeg_label_offset_seconds']//T_eeg)\n",
    "end_eeg_sub = int((train.iloc[-1,:]['eeg_label_offset_seconds']+50)//T_eeg)\n",
    "start_eeg_sub = start_eeg_sub - 1 if start_eeg_sub!=0 else 0\n",
    "one_sample = one_sample.iloc[start_eeg_sub:end_eeg_sub,:-1]\n",
    "\n",
    "f_values, fft_values = get_fft_features(data=one_sample.T, Fs=Fs_eeg, N=N_eeg)"
   ]
  },
  {
   "cell_type": "code",
   "execution_count": 13,
   "id": "3c39c082",
   "metadata": {
    "execution": {
     "iopub.execute_input": "2024-09-08T08:09:18.979430Z",
     "iopub.status.busy": "2024-09-08T08:09:18.979018Z",
     "iopub.status.idle": "2024-09-08T08:09:22.211787Z",
     "shell.execute_reply": "2024-09-08T08:09:22.210424Z"
    },
    "papermill": {
     "duration": 3.246617,
     "end_time": "2024-09-08T08:09:22.215122",
     "exception": false,
     "start_time": "2024-09-08T08:09:18.968505",
     "status": "completed"
    },
    "tags": []
   },
   "outputs": [
    {
     "data": {
      "image/png": "[encoded data removed]",
      "text/plain": [
       "<Figure size 1500x2500 with 18 Axes>"
      ]
     },
     "metadata": {},
     "output_type": "display_data"
    }
   ],
   "source": [
    "fig, axes = plt.subplots(nrows=6, ncols=3, figsize=(15,25))\n",
    "\n",
    "for i, ax in enumerate(axes.ravel()):\n",
    "    ax.plot(f_values, fft_values[i])"
   ]
  },
  {
   "cell_type": "code",
   "execution_count": 14,
   "id": "980e986f",
   "metadata": {
    "execution": {
     "iopub.execute_input": "2024-09-08T08:09:22.238531Z",
     "iopub.status.busy": "2024-09-08T08:09:22.238107Z",
     "iopub.status.idle": "2024-09-08T08:09:22.487933Z",
     "shell.execute_reply": "2024-09-08T08:09:22.486828Z"
    },
    "papermill": {
     "duration": 0.264558,
     "end_time": "2024-09-08T08:09:22.490588",
     "exception": false,
     "start_time": "2024-09-08T08:09:22.226030",
     "status": "completed"
    },
    "tags": []
   },
   "outputs": [
    {
     "data": {
      "text/plain": [
       "[<matplotlib.lines.Line2D at 0x7c84a955a290>]"
      ]
     },
     "execution_count": 14,
     "metadata": {},
     "output_type": "execute_result"
    },
    {
     "data": {
      "image/png": "[encoded data removed]",
      "text/plain": [
       "<Figure size 640x480 with 1 Axes>"
      ]
     },
     "metadata": {},
     "output_type": "display_data"
    }
   ],
   "source": [
    "plt.plot(f_values, fft_values[-1])"
   ]
  },
  {
   "cell_type": "markdown",
   "id": "cd4915d4",
   "metadata": {
    "papermill": {
     "duration": 0.010927,
     "end_time": "2024-09-08T08:09:22.513083",
     "exception": false,
     "start_time": "2024-09-08T08:09:22.502156",
     "status": "completed"
    },
    "tags": []
   },
   "source": [
    "Как видим, пиков почти нет, очень много маленьких частот, которые могут перекрываться, как мне кажется."
   ]
  },
  {
   "cell_type": "markdown",
   "id": "26d93fae",
   "metadata": {
    "papermill": {
     "duration": 0.011043,
     "end_time": "2024-09-08T08:09:22.535323",
     "exception": false,
     "start_time": "2024-09-08T08:09:22.524280",
     "status": "completed"
    },
    "tags": []
   },
   "source": [
    "data_eegs:  \n",
    "- `<electrode_name>_psd`: Сумма трех наиболее мощных пиков для каждого спектра мощности  \n",
    "- `<electrode_name><n_wavelet>_entropy`: Энтропия одного вейвлет разложения  \n",
    "- `<electrode_name><n_wavelet>_mean`: Среднее значение одного вейвлет разложения     \n",
    "- `<electrode_name><n_wavelet>_std`: Стандартное отклонение одного вейвлет разложения   \n",
    "- `<electrode_name><n_wavelet>_rms`: Среднеквадратичное значение одного вейвлет разложения   \n",
    "- `<electrode_name><n_wavelet>_median`: Медиана одного вейвлет разложения  \n",
    "1159 features\n",
    "  \n",
    "data_spectrograms:\n",
    "- `<AutoML_feature_LL_mean>`\n",
    "- `<AutoML_feature_RL_mean>`\n",
    "- `<AutoML_feature_LP_mean>`\n",
    "- `<AutoML_feature_RP_mean>`  \n",
    "56 features"
   ]
  },
  {
   "cell_type": "code",
   "execution_count": 15,
   "id": "5439536b",
   "metadata": {
    "execution": {
     "iopub.execute_input": "2024-09-08T08:09:22.559600Z",
     "iopub.status.busy": "2024-09-08T08:09:22.559146Z",
     "iopub.status.idle": "2024-09-08T08:09:31.821422Z",
     "shell.execute_reply": "2024-09-08T08:09:31.820134Z"
    },
    "papermill": {
     "duration": 9.277566,
     "end_time": "2024-09-08T08:09:31.824012",
     "exception": false,
     "start_time": "2024-09-08T08:09:22.546446",
     "status": "completed"
    },
    "tags": []
   },
   "outputs": [
    {
     "data": {
      "application/vnd.jupyter.widget-view+json": {
       "model_id": "5e4993ab2ff74f98b2fe933218472011",
       "version_major": 2,
       "version_minor": 0
      },
      "text/plain": [
       "  0%|          | 0/5 [00:00<?, ?it/s]"
      ]
     },
     "metadata": {},
     "output_type": "display_data"
    }
   ],
   "source": [
    "data_eegs, data_spectrograms = get_all_features(train)"
   ]
  },
  {
   "cell_type": "markdown",
   "id": "ffb03946",
   "metadata": {
    "papermill": {
     "duration": 0.011104,
     "end_time": "2024-09-08T08:09:31.846593",
     "exception": false,
     "start_time": "2024-09-08T08:09:31.835489",
     "status": "completed"
    },
    "tags": []
   },
   "source": [
    "Уберем коррелированные признаки, а также признаки дисперсия которых равна 0."
   ]
  },
  {
   "cell_type": "code",
   "execution_count": 16,
   "id": "4193da36",
   "metadata": {
    "execution": {
     "iopub.execute_input": "2024-09-08T08:09:31.871173Z",
     "iopub.status.busy": "2024-09-08T08:09:31.870720Z",
     "iopub.status.idle": "2024-09-08T08:09:31.877359Z",
     "shell.execute_reply": "2024-09-08T08:09:31.876311Z"
    },
    "papermill": {
     "duration": 0.021673,
     "end_time": "2024-09-08T08:09:31.879751",
     "exception": false,
     "start_time": "2024-09-08T08:09:31.858078",
     "status": "completed"
    },
    "tags": []
   },
   "outputs": [],
   "source": [
    "def get_cleaned_data(data: pd.DataFrame) -> pd.DataFrame:\n",
    "    \"\"\"\n",
    "    Cleans the input DataFrame by removing highly correlated features and features with zero variance.\n",
    "\n",
    "    Parameters:\n",
    "    data (pd.DataFrame): The input DataFrame containing the data to be cleaned.\n",
    "\n",
    "    Returns:\n",
    "    pd.DataFrame: A cleaned DataFrame with highly correlated features and features with zero variance removed.\n",
    "    \"\"\"\n",
    "    corr_features = tsfel.correlated_features(data, threshold=0.8)\n",
    "    data = data.drop(corr_features, axis=1)\n",
    "\n",
    "    thr_var = VarianceThreshold(threshold=0)\n",
    "    thr_var.fit(data)\n",
    "    inds = thr_var.get_support(indices=True)\n",
    "    data = data.iloc[:,inds]\n",
    "    \n",
    "    return data"
   ]
  },
  {
   "cell_type": "code",
   "execution_count": 17,
   "id": "8b734093",
   "metadata": {
    "execution": {
     "iopub.execute_input": "2024-09-08T08:09:31.904251Z",
     "iopub.status.busy": "2024-09-08T08:09:31.903827Z",
     "iopub.status.idle": "2024-09-08T08:09:32.150773Z",
     "shell.execute_reply": "2024-09-08T08:09:32.149620Z"
    },
    "papermill": {
     "duration": 0.262188,
     "end_time": "2024-09-08T08:09:32.153288",
     "exception": false,
     "start_time": "2024-09-08T08:09:31.891100",
     "status": "completed"
    },
    "tags": []
   },
   "outputs": [],
   "source": [
    "data_eegs_cleaned = get_cleaned_data(data_eegs)\n",
    "data_spectrograms_cleaned = get_cleaned_data(data_spectrograms)"
   ]
  },
  {
   "cell_type": "code",
   "execution_count": 18,
   "id": "d5d47e86",
   "metadata": {
    "execution": {
     "iopub.execute_input": "2024-09-08T08:09:32.178220Z",
     "iopub.status.busy": "2024-09-08T08:09:32.177777Z",
     "iopub.status.idle": "2024-09-08T08:09:32.188646Z",
     "shell.execute_reply": "2024-09-08T08:09:32.187358Z"
    },
    "papermill": {
     "duration": 0.025809,
     "end_time": "2024-09-08T08:09:32.191041",
     "exception": false,
     "start_time": "2024-09-08T08:09:32.165232",
     "status": "completed"
    },
    "tags": []
   },
   "outputs": [
    {
     "data": {
      "text/html": [
       "<div>\n",
       "<style scoped>\n",
       "    .dataframe tbody tr th:only-of-type {\n",
       "        vertical-align: middle;\n",
       "    }\n",
       "\n",
       "    .dataframe tbody tr th {\n",
       "        vertical-align: top;\n",
       "    }\n",
       "\n",
       "    .dataframe thead th {\n",
       "        text-align: right;\n",
       "    }\n",
       "</style>\n",
       "<table border=\"1\" class=\"dataframe\">\n",
       "  <thead>\n",
       "    <tr style=\"text-align: right;\">\n",
       "      <th></th>\n",
       "      <th>0_Area under the curve_LL_mean</th>\n",
       "    </tr>\n",
       "  </thead>\n",
       "  <tbody>\n",
       "    <tr>\n",
       "      <th>0</th>\n",
       "      <td>211.789109</td>\n",
       "    </tr>\n",
       "    <tr>\n",
       "      <th>0</th>\n",
       "      <td>209.772620</td>\n",
       "    </tr>\n",
       "    <tr>\n",
       "      <th>0</th>\n",
       "      <td>209.124715</td>\n",
       "    </tr>\n",
       "    <tr>\n",
       "      <th>0</th>\n",
       "      <td>205.914218</td>\n",
       "    </tr>\n",
       "    <tr>\n",
       "      <th>0</th>\n",
       "      <td>203.593954</td>\n",
       "    </tr>\n",
       "  </tbody>\n",
       "</table>\n",
       "</div>"
      ],
      "text/plain": [
       "   0_Area under the curve_LL_mean\n",
       "0                      211.789109\n",
       "0                      209.772620\n",
       "0                      209.124715\n",
       "0                      205.914218\n",
       "0                      203.593954"
      ]
     },
     "execution_count": 18,
     "metadata": {},
     "output_type": "execute_result"
    }
   ],
   "source": [
    "data_spectrograms_cleaned"
   ]
  },
  {
   "cell_type": "code",
   "execution_count": 19,
   "id": "ca719dbe",
   "metadata": {
    "execution": {
     "iopub.execute_input": "2024-09-08T08:09:32.216452Z",
     "iopub.status.busy": "2024-09-08T08:09:32.215374Z",
     "iopub.status.idle": "2024-09-08T08:09:32.230812Z",
     "shell.execute_reply": "2024-09-08T08:09:32.229591Z"
    },
    "papermill": {
     "duration": 0.030665,
     "end_time": "2024-09-08T08:09:32.233242",
     "exception": false,
     "start_time": "2024-09-08T08:09:32.202577",
     "status": "completed"
    },
    "tags": []
   },
   "outputs": [
    {
     "data": {
      "text/html": [
       "<div>\n",
       "<style scoped>\n",
       "    .dataframe tbody tr th:only-of-type {\n",
       "        vertical-align: middle;\n",
       "    }\n",
       "\n",
       "    .dataframe tbody tr th {\n",
       "        vertical-align: top;\n",
       "    }\n",
       "\n",
       "    .dataframe thead th {\n",
       "        text-align: right;\n",
       "    }\n",
       "</style>\n",
       "<table border=\"1\" class=\"dataframe\">\n",
       "  <thead>\n",
       "    <tr style=\"text-align: right;\">\n",
       "      <th></th>\n",
       "      <th>Fp10_mean</th>\n",
       "      <th>Fp10_std</th>\n",
       "      <th>Fp11_entropy</th>\n",
       "      <th>Fp11_mean</th>\n",
       "      <th>Fp12_median</th>\n",
       "      <th>Fp13_entropy</th>\n",
       "      <th>Fp14_mean</th>\n",
       "      <th>Fp15_std</th>\n",
       "      <th>Fp16_mean</th>\n",
       "    </tr>\n",
       "  </thead>\n",
       "  <tbody>\n",
       "    <tr>\n",
       "      <th>0</th>\n",
       "      <td>-5312.231934</td>\n",
       "      <td>215.138260</td>\n",
       "      <td>1.945910</td>\n",
       "      <td>-83.162300</td>\n",
       "      <td>0.000000</td>\n",
       "      <td>3.028029</td>\n",
       "      <td>-4.573252</td>\n",
       "      <td>128.102417</td>\n",
       "      <td>-2.028580</td>\n",
       "    </tr>\n",
       "    <tr>\n",
       "      <th>0</th>\n",
       "      <td>-5452.796875</td>\n",
       "      <td>202.371964</td>\n",
       "      <td>1.945910</td>\n",
       "      <td>-14.268799</td>\n",
       "      <td>-78.793884</td>\n",
       "      <td>3.091042</td>\n",
       "      <td>6.778633</td>\n",
       "      <td>126.660690</td>\n",
       "      <td>4.725431</td>\n",
       "    </tr>\n",
       "    <tr>\n",
       "      <th>0</th>\n",
       "      <td>-5088.032715</td>\n",
       "      <td>318.037903</td>\n",
       "      <td>1.945910</td>\n",
       "      <td>-17.747402</td>\n",
       "      <td>-0.000092</td>\n",
       "      <td>3.028029</td>\n",
       "      <td>-13.465321</td>\n",
       "      <td>126.133247</td>\n",
       "      <td>0.964425</td>\n",
       "    </tr>\n",
       "    <tr>\n",
       "      <th>0</th>\n",
       "      <td>-5137.831543</td>\n",
       "      <td>566.644287</td>\n",
       "      <td>1.945910</td>\n",
       "      <td>191.963013</td>\n",
       "      <td>13.677032</td>\n",
       "      <td>3.091042</td>\n",
       "      <td>3.269587</td>\n",
       "      <td>126.960999</td>\n",
       "      <td>0.560118</td>\n",
       "    </tr>\n",
       "    <tr>\n",
       "      <th>0</th>\n",
       "      <td>-5526.247070</td>\n",
       "      <td>459.487518</td>\n",
       "      <td>1.747868</td>\n",
       "      <td>-142.928482</td>\n",
       "      <td>-0.000031</td>\n",
       "      <td>3.091042</td>\n",
       "      <td>-3.181209</td>\n",
       "      <td>127.357063</td>\n",
       "      <td>-2.985119</td>\n",
       "    </tr>\n",
       "  </tbody>\n",
       "</table>\n",
       "</div>"
      ],
      "text/plain": [
       "     Fp10_mean    Fp10_std  Fp11_entropy   Fp11_mean  Fp12_median  \\\n",
       "0 -5312.231934  215.138260      1.945910  -83.162300     0.000000   \n",
       "0 -5452.796875  202.371964      1.945910  -14.268799   -78.793884   \n",
       "0 -5088.032715  318.037903      1.945910  -17.747402    -0.000092   \n",
       "0 -5137.831543  566.644287      1.945910  191.963013    13.677032   \n",
       "0 -5526.247070  459.487518      1.747868 -142.928482    -0.000031   \n",
       "\n",
       "   Fp13_entropy  Fp14_mean    Fp15_std  Fp16_mean  \n",
       "0      3.028029  -4.573252  128.102417  -2.028580  \n",
       "0      3.091042   6.778633  126.660690   4.725431  \n",
       "0      3.028029 -13.465321  126.133247   0.964425  \n",
       "0      3.091042   3.269587  126.960999   0.560118  \n",
       "0      3.091042  -3.181209  127.357063  -2.985119  "
      ]
     },
     "execution_count": 19,
     "metadata": {},
     "output_type": "execute_result"
    }
   ],
   "source": [
    "data_eegs_cleaned"
   ]
  },
  {
   "cell_type": "markdown",
   "id": "6c7ac514",
   "metadata": {
    "papermill": {
     "duration": 0.011286,
     "end_time": "2024-09-08T08:09:32.256253",
     "exception": false,
     "start_time": "2024-09-08T08:09:32.244967",
     "status": "completed"
    },
    "tags": []
   },
   "source": [
    "## Результаты\n",
    "Мы получили два датасета для ЕЕГ и спектрограмм соответственно. Можно заметить, что признаков стало довольно мало после очистки, значит было много коррелированных признаков и немного признаков с дисперсией 0."
   ]
  }
 ],
 "metadata": {
  "kaggle": {
   "accelerator": "none",
   "dataSources": [
    {
     "databundleVersionId": 7469972,
     "sourceId": 59093,
     "sourceType": "competition"
    }
   ],
   "dockerImageVersionId": 30761,
   "isGpuEnabled": false,
   "isInternetEnabled": true,
   "language": "python",
   "sourceType": "notebook"
  },
  "kernelspec": {
   "display_name": "Python 3",
   "language": "python",
   "name": "python3"
  },
  "language_info": {
   "codemirror_mode": {
    "name": "ipython",
    "version": 3
   },
   "file_extension": ".py",
   "mimetype": "text/x-python",
   "name": "python",
   "nbconvert_exporter": "python",
   "pygments_lexer": "ipython3",
   "version": "3.11.9"
  },
  "papermill": {
   "default_parameters": {},
   "duration": 35.679269,
   "end_time": "2024-09-08T08:09:33.093102",
   "environment_variables": {},
   "exception": null,
   "input_path": "__notebook__.ipynb",
   "output_path": "__notebook__.ipynb",
   "parameters": {},
   "start_time": "2024-09-08T08:08:57.413833",
   "version": "2.6.0"
  },
  "widgets": {
   "application/vnd.jupyter.widget-state+json": {
    "state": {
     "1da984d7e2af4160a2a695dfa5e2521b": {
      "model_module": "@jupyter-widgets/controls",
      "model_module_version": "1.5.0",
      "model_name": "HTMLModel",
      "state": {
       "_dom_classes": [],
       "_model_module": "@jupyter-widgets/controls",
       "_model_module_version": "1.5.0",
       "_model_name": "HTMLModel",
       "_view_count": null,
       "_view_module": "@jupyter-widgets/controls",
       "_view_module_version": "1.5.0",
       "_view_name": "HTMLView",
       "description": "",
       "description_tooltip": null,
       "layout": "IPY_MODEL_40bfd8cee7464f9d9d7c0b1a3a069ca0",
       "placeholder": "​",
       "style": "IPY_MODEL_c8362ce2e6b248b1bef4bc37aec38b1a",
       "value": " 5/5 [00:09&lt;00:00,  1.85s/it]"
      }
     },
     "21992af9da5648eba331d75aa6c7f2b1": {
      "model_module": "@jupyter-widgets/base",
      "model_module_version": "1.2.0",
      "model_name": "LayoutModel",
      "state": {
       "_model_module": "@jupyter-widgets/base",
       "_model_module_version": "1.2.0",
       "_model_name": "LayoutModel",
       "_view_count": null,
       "_view_module": "@jupyter-widgets/base",
       "_view_module_version": "1.2.0",
       "_view_name": "LayoutView",
       "align_content": null,
       "align_items": null,
       "align_self": null,
       "border": null,
       "bottom": null,
       "display": null,
       "flex": null,
       "flex_flow": null,
       "grid_area": null,
       "grid_auto_columns": null,
       "grid_auto_flow": null,
       "grid_auto_rows": null,
       "grid_column": null,
       "grid_gap": null,
       "grid_row": null,
       "grid_template_areas": null,
       "grid_template_columns": null,
       "grid_template_rows": null,
       "height": null,
       "justify_content": null,
       "justify_items": null,
       "left": null,
       "margin": null,
       "max_height": null,
       "max_width": null,
       "min_height": null,
       "min_width": null,
       "object_fit": null,
       "object_position": null,
       "order": null,
       "overflow": null,
       "overflow_x": null,
       "overflow_y": null,
       "padding": null,
       "right": null,
       "top": null,
       "visibility": null,
       "width": null
      }
     },
     "25f62e28ee5041a2b521bd4612e9aeb7": {
      "model_module": "@jupyter-widgets/controls",
      "model_module_version": "1.5.0",
      "model_name": "DescriptionStyleModel",
      "state": {
       "_model_module": "@jupyter-widgets/controls",
       "_model_module_version": "1.5.0",
       "_model_name": "DescriptionStyleModel",
       "_view_count": null,
       "_view_module": "@jupyter-widgets/base",
       "_view_module_version": "1.2.0",
       "_view_name": "StyleView",
       "description_width": ""
      }
     },
     "40bfd8cee7464f9d9d7c0b1a3a069ca0": {
      "model_module": "@jupyter-widgets/base",
      "model_module_version": "1.2.0",
      "model_name": "LayoutModel",
      "state": {
       "_model_module": "@jupyter-widgets/base",
       "_model_module_version": "1.2.0",
       "_model_name": "LayoutModel",
       "_view_count": null,
       "_view_module": "@jupyter-widgets/base",
       "_view_module_version": "1.2.0",
       "_view_name": "LayoutView",
       "align_content": null,
       "align_items": null,
       "align_self": null,
       "border": null,
       "bottom": null,
       "display": null,
       "flex": null,
       "flex_flow": null,
       "grid_area": null,
       "grid_auto_columns": null,
       "grid_auto_flow": null,
       "grid_auto_rows": null,
       "grid_column": null,
       "grid_gap": null,
       "grid_row": null,
       "grid_template_areas": null,
       "grid_template_columns": null,
       "grid_template_rows": null,
       "height": null,
       "justify_content": null,
       "justify_items": null,
       "left": null,
       "margin": null,
       "max_height": null,
       "max_width": null,
       "min_height": null,
       "min_width": null,
       "object_fit": null,
       "object_position": null,
       "order": null,
       "overflow": null,
       "overflow_x": null,
       "overflow_y": null,
       "padding": null,
       "right": null,
       "top": null,
       "visibility": null,
       "width": null
      }
     },
     "45e9ef60f1c44f75bb5558b6d1d0de70": {
      "model_module": "@jupyter-widgets/base",
      "model_module_version": "1.2.0",
      "model_name": "LayoutModel",
      "state": {
       "_model_module": "@jupyter-widgets/base",
       "_model_module_version": "1.2.0",
       "_model_name": "LayoutModel",
       "_view_count": null,
       "_view_module": "@jupyter-widgets/base",
       "_view_module_version": "1.2.0",
       "_view_name": "LayoutView",
       "align_content": null,
       "align_items": null,
       "align_self": null,
       "border": null,
       "bottom": null,
       "display": null,
       "flex": null,
       "flex_flow": null,
       "grid_area": null,
       "grid_auto_columns": null,
       "grid_auto_flow": null,
       "grid_auto_rows": null,
       "grid_column": null,
       "grid_gap": null,
       "grid_row": null,
       "grid_template_areas": null,
       "grid_template_columns": null,
       "grid_template_rows": null,
       "height": null,
       "justify_content": null,
       "justify_items": null,
       "left": null,
       "margin": null,
       "max_height": null,
       "max_width": null,
       "min_height": null,
       "min_width": null,
       "object_fit": null,
       "object_position": null,
       "order": null,
       "overflow": null,
       "overflow_x": null,
       "overflow_y": null,
       "padding": null,
       "right": null,
       "top": null,
       "visibility": null,
       "width": null
      }
     },
     "49ed2894bf124a91a93690f7db8f9cfc": {
      "model_module": "@jupyter-widgets/controls",
      "model_module_version": "1.5.0",
      "model_name": "HTMLModel",
      "state": {
       "_dom_classes": [],
       "_model_module": "@jupyter-widgets/controls",
       "_model_module_version": "1.5.0",
       "_model_name": "HTMLModel",
       "_view_count": null,
       "_view_module": "@jupyter-widgets/controls",
       "_view_module_version": "1.5.0",
       "_view_name": "HTMLView",
       "description": "",
       "description_tooltip": null,
       "layout": "IPY_MODEL_21992af9da5648eba331d75aa6c7f2b1",
       "placeholder": "​",
       "style": "IPY_MODEL_25f62e28ee5041a2b521bd4612e9aeb7",
       "value": "100%"
      }
     },
     "5e4993ab2ff74f98b2fe933218472011": {
      "model_module": "@jupyter-widgets/controls",
      "model_module_version": "1.5.0",
      "model_name": "HBoxModel",
      "state": {
       "_dom_classes": [],
       "_model_module": "@jupyter-widgets/controls",
       "_model_module_version": "1.5.0",
       "_model_name": "HBoxModel",
       "_view_count": null,
       "_view_module": "@jupyter-widgets/controls",
       "_view_module_version": "1.5.0",
       "_view_name": "HBoxView",
       "box_style": "",
       "children": [
        "IPY_MODEL_49ed2894bf124a91a93690f7db8f9cfc",
        "IPY_MODEL_f5b058d4f1b0403a991cf522aa820364",
        "IPY_MODEL_1da984d7e2af4160a2a695dfa5e2521b"
       ],
       "layout": "IPY_MODEL_45e9ef60f1c44f75bb5558b6d1d0de70"
      }
     },
     "68be1f200e3640499d9b17d9accff499": {
      "model_module": "@jupyter-widgets/controls",
      "model_module_version": "1.5.0",
      "model_name": "ProgressStyleModel",
      "state": {
       "_model_module": "@jupyter-widgets/controls",
       "_model_module_version": "1.5.0",
       "_model_name": "ProgressStyleModel",
       "_view_count": null,
       "_view_module": "@jupyter-widgets/base",
       "_view_module_version": "1.2.0",
       "_view_name": "StyleView",
       "bar_color": null,
       "description_width": ""
      }
     },
     "c8362ce2e6b248b1bef4bc37aec38b1a": {
      "model_module": "@jupyter-widgets/controls",
      "model_module_version": "1.5.0",
      "model_name": "DescriptionStyleModel",
      "state": {
       "_model_module": "@jupyter-widgets/controls",
       "_model_module_version": "1.5.0",
       "_model_name": "DescriptionStyleModel",
       "_view_count": null,
       "_view_module": "@jupyter-widgets/base",
       "_view_module_version": "1.2.0",
       "_view_name": "StyleView",
       "description_width": ""
      }
     },
     "f11e41f715ca44a38ada29dc119c8464": {
      "model_module": "@jupyter-widgets/base",
      "model_module_version": "1.2.0",
      "model_name": "LayoutModel",
      "state": {
       "_model_module": "@jupyter-widgets/base",
       "_model_module_version": "1.2.0",
       "_model_name": "LayoutModel",
       "_view_count": null,
       "_view_module": "@jupyter-widgets/base",
       "_view_module_version": "1.2.0",
       "_view_name": "LayoutView",
       "align_content": null,
       "align_items": null,
       "align_self": null,
       "border": null,
       "bottom": null,
       "display": null,
       "flex": null,
       "flex_flow": null,
       "grid_area": null,
       "grid_auto_columns": null,
       "grid_auto_flow": null,
       "grid_auto_rows": null,
       "grid_column": null,
       "grid_gap": null,
       "grid_row": null,
       "grid_template_areas": null,
       "grid_template_columns": null,
       "grid_template_rows": null,
       "height": null,
       "justify_content": null,
       "justify_items": null,
       "left": null,
       "margin": null,
       "max_height": null,
       "max_width": null,
       "min_height": null,
       "min_width": null,
       "object_fit": null,
       "object_position": null,
       "order": null,
       "overflow": null,
       "overflow_x": null,
       "overflow_y": null,
       "padding": null,
       "right": null,
       "top": null,
       "visibility": null,
       "width": null
      }
     },
     "f5b058d4f1b0403a991cf522aa820364": {
      "model_module": "@jupyter-widgets/controls",
      "model_module_version": "1.5.0",
      "model_name": "FloatProgressModel",
      "state": {
       "_dom_classes": [],
       "_model_module": "@jupyter-widgets/controls",
       "_model_module_version": "1.5.0",
       "_model_name": "FloatProgressModel",
       "_view_count": null,
       "_view_module": "@jupyter-widgets/controls",
       "_view_module_version": "1.5.0",
       "_view_name": "ProgressView",
       "bar_style": "success",
       "description": "",
       "description_tooltip": null,
       "layout": "IPY_MODEL_f11e41f715ca44a38ada29dc119c8464",
       "max": 5,
       "min": 0,
       "orientation": "horizontal",
       "style": "IPY_MODEL_68be1f200e3640499d9b17d9accff499",
       "value": 5
      }
     }
    },
    "version_major": 2,
    "version_minor": 0
   }
  }
 },
 "nbformat": 4,
 "nbformat_minor": 5
}
