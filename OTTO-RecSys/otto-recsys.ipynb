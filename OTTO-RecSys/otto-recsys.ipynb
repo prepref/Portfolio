{
 "cells": [
  {
   "cell_type": "code",
   "execution_count": 1,
   "id": "4ae03ac6",
   "metadata": {
    "_cell_guid": "b1076dfc-b9ad-4769-8c92-a6c4dae69d19",
    "_uuid": "8f2839f25d086af736a60e9eeb907d3b93b6e0e5",
    "execution": {
     "iopub.execute_input": "2024-06-09T15:11:07.752632Z",
     "iopub.status.busy": "2024-06-09T15:11:07.752215Z",
     "iopub.status.idle": "2024-06-09T15:11:08.759055Z",
     "shell.execute_reply": "2024-06-09T15:11:08.757452Z"
    },
    "papermill": {
     "duration": 1.022646,
     "end_time": "2024-06-09T15:11:08.761876",
     "exception": false,
     "start_time": "2024-06-09T15:11:07.739230",
     "status": "completed"
    },
    "tags": []
   },
   "outputs": [
    {
     "name": "stdout",
     "output_type": "stream",
     "text": [
      "/kaggle/input/otto-recommender-system/sample_submission.csv\n",
      "/kaggle/input/otto-recommender-system/test.jsonl\n",
      "/kaggle/input/otto-recommender-system/train.jsonl\n"
     ]
    }
   ],
   "source": [
    "# This Python 3 environment comes with many helpful analytics libraries installed\n",
    "# It is defined by the kaggle/python Docker image: https://github.com/kaggle/docker-python\n",
    "# For example, here's several helpful packages to load\n",
    "\n",
    "import numpy as np # linear algebra\n",
    "import pandas as pd # data processing, CSV file I/O (e.g. pd.read_csv)\n",
    "\n",
    "# Input data files are available in the read-only \"../input/\" directory\n",
    "# For example, running this (by clicking run or pressing Shift+Enter) will list all files under the input directory\n",
    "\n",
    "import os\n",
    "for dirname, _, filenames in os.walk('/kaggle/input'):\n",
    "    for filename in filenames:\n",
    "        print(os.path.join(dirname, filename))\n",
    "\n",
    "# You can write up to 20GB to the current directory (/kaggle/working/) that gets preserved as output when you create a version using \"Save & Run All\" \n",
    "# You can also write temporary files to /kaggle/temp/, but they won't be saved outside of the current session"
   ]
  },
  {
   "cell_type": "code",
   "execution_count": 2,
   "id": "916559ce",
   "metadata": {
    "execution": {
     "iopub.execute_input": "2024-06-09T15:11:08.786184Z",
     "iopub.status.busy": "2024-06-09T15:11:08.785658Z",
     "iopub.status.idle": "2024-06-09T15:11:08.796643Z",
     "shell.execute_reply": "2024-06-09T15:11:08.795492Z"
    },
    "papermill": {
     "duration": 0.026354,
     "end_time": "2024-06-09T15:11:08.799491",
     "exception": false,
     "start_time": "2024-06-09T15:11:08.773137",
     "status": "completed"
    },
    "tags": []
   },
   "outputs": [],
   "source": [
    "import pandas as pd\n",
    "import numpy as np\n",
    "\n",
    "from tqdm import tqdm"
   ]
  },
  {
   "cell_type": "code",
   "execution_count": 3,
   "id": "0ce33c8d",
   "metadata": {
    "execution": {
     "iopub.execute_input": "2024-06-09T15:11:08.823168Z",
     "iopub.status.busy": "2024-06-09T15:11:08.822753Z",
     "iopub.status.idle": "2024-06-09T15:13:22.896855Z",
     "shell.execute_reply": "2024-06-09T15:13:22.895107Z"
    },
    "papermill": {
     "duration": 134.105573,
     "end_time": "2024-06-09T15:13:22.916057",
     "exception": false,
     "start_time": "2024-06-09T15:11:08.810484",
     "status": "completed"
    },
    "tags": []
   },
   "outputs": [
    {
     "name": "stdout",
     "output_type": "stream",
     "text": [
      "num_rows: 12899779\n",
      "number of chunks: 86.0\n"
     ]
    }
   ],
   "source": [
    "chunksize = 150000\n",
    "num_rows = 0\n",
    "\n",
    "with open('/kaggle/input/otto-recommender-system/train.jsonl') as f:\n",
    "    num_rows = sum(1 for line in f)\n",
    "    print(f'num_rows: {num_rows}')\n",
    "    print(f'number of chunks: {np.ceil(num_rows/chunksize)}')"
   ]
  },
  {
   "cell_type": "code",
   "execution_count": 4,
   "id": "2c52cbc5",
   "metadata": {
    "execution": {
     "iopub.execute_input": "2024-06-09T15:13:22.940809Z",
     "iopub.status.busy": "2024-06-09T15:13:22.939867Z",
     "iopub.status.idle": "2024-06-09T15:13:22.956632Z",
     "shell.execute_reply": "2024-06-09T15:13:22.955422Z"
    },
    "papermill": {
     "duration": 0.032618,
     "end_time": "2024-06-09T15:13:22.959514",
     "exception": false,
     "start_time": "2024-06-09T15:13:22.926896",
     "status": "completed"
    },
    "tags": []
   },
   "outputs": [],
   "source": [
    "chunks = pd.read_json('/kaggle/input/otto-recommender-system/train.jsonl',lines=True,chunksize=chunksize)"
   ]
  },
  {
   "cell_type": "code",
   "execution_count": 5,
   "id": "88b28844",
   "metadata": {
    "execution": {
     "iopub.execute_input": "2024-06-09T15:13:22.983759Z",
     "iopub.status.busy": "2024-06-09T15:13:22.983333Z",
     "iopub.status.idle": "2024-06-09T15:36:16.730025Z",
     "shell.execute_reply": "2024-06-09T15:36:16.728777Z"
    },
    "papermill": {
     "duration": 1373.762729,
     "end_time": "2024-06-09T15:36:16.733300",
     "exception": false,
     "start_time": "2024-06-09T15:13:22.970571",
     "status": "completed"
    },
    "tags": []
   },
   "outputs": [],
   "source": [
    "for i,chunk in enumerate(chunks):\n",
    "    if i < 86:\n",
    "        event_dict = {'session':[],'aid':[],'ts':[],'type':[]}\n",
    "        \n",
    "        for session, events in zip(chunk['session'].tolist(), chunk['events'].tolist()):\n",
    "            for event in events:\n",
    "                event_dict['session'].append(session)\n",
    "                event_dict['aid'].append(event['aid'])\n",
    "                event_dict['ts'].append(event['ts'])\n",
    "                event_dict['type'].append(event['type'])\n",
    "        \n",
    "        train = pd.DataFrame(event_dict)\n",
    "    else:\n",
    "        break\n",
    "\n",
    "train.reset_index(drop=True,inplace=True)"
   ]
  },
  {
   "cell_type": "code",
   "execution_count": 6,
   "id": "50bc8163",
   "metadata": {
    "execution": {
     "iopub.execute_input": "2024-06-09T15:36:16.759029Z",
     "iopub.status.busy": "2024-06-09T15:36:16.758609Z",
     "iopub.status.idle": "2024-06-09T15:36:16.788794Z",
     "shell.execute_reply": "2024-06-09T15:36:16.787504Z"
    },
    "papermill": {
     "duration": 0.045196,
     "end_time": "2024-06-09T15:36:16.791387",
     "exception": false,
     "start_time": "2024-06-09T15:36:16.746191",
     "status": "completed"
    },
    "tags": []
   },
   "outputs": [
    {
     "data": {
      "text/html": [
       "<div>\n",
       "<style scoped>\n",
       "    .dataframe tbody tr th:only-of-type {\n",
       "        vertical-align: middle;\n",
       "    }\n",
       "\n",
       "    .dataframe tbody tr th {\n",
       "        vertical-align: top;\n",
       "    }\n",
       "\n",
       "    .dataframe thead th {\n",
       "        text-align: right;\n",
       "    }\n",
       "</style>\n",
       "<table border=\"1\" class=\"dataframe\">\n",
       "  <thead>\n",
       "    <tr style=\"text-align: right;\">\n",
       "      <th></th>\n",
       "      <th>session</th>\n",
       "      <th>aid</th>\n",
       "      <th>ts</th>\n",
       "      <th>type</th>\n",
       "    </tr>\n",
       "  </thead>\n",
       "  <tbody>\n",
       "    <tr>\n",
       "      <th>0</th>\n",
       "      <td>12750000</td>\n",
       "      <td>485849</td>\n",
       "      <td>1661691789284</td>\n",
       "      <td>clicks</td>\n",
       "    </tr>\n",
       "    <tr>\n",
       "      <th>1</th>\n",
       "      <td>12750000</td>\n",
       "      <td>1772818</td>\n",
       "      <td>1661691895472</td>\n",
       "      <td>clicks</td>\n",
       "    </tr>\n",
       "    <tr>\n",
       "      <th>2</th>\n",
       "      <td>12750000</td>\n",
       "      <td>485849</td>\n",
       "      <td>1661691957656</td>\n",
       "      <td>clicks</td>\n",
       "    </tr>\n",
       "    <tr>\n",
       "      <th>3</th>\n",
       "      <td>12750001</td>\n",
       "      <td>593230</td>\n",
       "      <td>1661691789526</td>\n",
       "      <td>clicks</td>\n",
       "    </tr>\n",
       "    <tr>\n",
       "      <th>4</th>\n",
       "      <td>12750001</td>\n",
       "      <td>1583419</td>\n",
       "      <td>1661691981789</td>\n",
       "      <td>clicks</td>\n",
       "    </tr>\n",
       "    <tr>\n",
       "      <th>...</th>\n",
       "      <td>...</td>\n",
       "      <td>...</td>\n",
       "      <td>...</td>\n",
       "      <td>...</td>\n",
       "    </tr>\n",
       "    <tr>\n",
       "      <th>1097136</th>\n",
       "      <td>12899776</td>\n",
       "      <td>1737908</td>\n",
       "      <td>1661723987073</td>\n",
       "      <td>clicks</td>\n",
       "    </tr>\n",
       "    <tr>\n",
       "      <th>1097137</th>\n",
       "      <td>12899777</td>\n",
       "      <td>384045</td>\n",
       "      <td>1661723976974</td>\n",
       "      <td>clicks</td>\n",
       "    </tr>\n",
       "    <tr>\n",
       "      <th>1097138</th>\n",
       "      <td>12899777</td>\n",
       "      <td>384045</td>\n",
       "      <td>1661723986800</td>\n",
       "      <td>clicks</td>\n",
       "    </tr>\n",
       "    <tr>\n",
       "      <th>1097139</th>\n",
       "      <td>12899778</td>\n",
       "      <td>561560</td>\n",
       "      <td>1661723983611</td>\n",
       "      <td>clicks</td>\n",
       "    </tr>\n",
       "    <tr>\n",
       "      <th>1097140</th>\n",
       "      <td>12899778</td>\n",
       "      <td>32070</td>\n",
       "      <td>1661723994936</td>\n",
       "      <td>clicks</td>\n",
       "    </tr>\n",
       "  </tbody>\n",
       "</table>\n",
       "<p>1097141 rows × 4 columns</p>\n",
       "</div>"
      ],
      "text/plain": [
       "          session      aid             ts    type\n",
       "0        12750000   485849  1661691789284  clicks\n",
       "1        12750000  1772818  1661691895472  clicks\n",
       "2        12750000   485849  1661691957656  clicks\n",
       "3        12750001   593230  1661691789526  clicks\n",
       "4        12750001  1583419  1661691981789  clicks\n",
       "...           ...      ...            ...     ...\n",
       "1097136  12899776  1737908  1661723987073  clicks\n",
       "1097137  12899777   384045  1661723976974  clicks\n",
       "1097138  12899777   384045  1661723986800  clicks\n",
       "1097139  12899778   561560  1661723983611  clicks\n",
       "1097140  12899778    32070  1661723994936  clicks\n",
       "\n",
       "[1097141 rows x 4 columns]"
      ]
     },
     "execution_count": 6,
     "metadata": {},
     "output_type": "execute_result"
    }
   ],
   "source": [
    "train"
   ]
  },
  {
   "cell_type": "code",
   "execution_count": 7,
   "id": "c1b08e34",
   "metadata": {
    "execution": {
     "iopub.execute_input": "2024-06-09T15:36:16.816951Z",
     "iopub.status.busy": "2024-06-09T15:36:16.815770Z",
     "iopub.status.idle": "2024-06-09T15:36:17.030171Z",
     "shell.execute_reply": "2024-06-09T15:36:17.029062Z"
    },
    "papermill": {
     "duration": 0.230198,
     "end_time": "2024-06-09T15:36:17.033237",
     "exception": false,
     "start_time": "2024-06-09T15:36:16.803039",
     "status": "completed"
    },
    "tags": []
   },
   "outputs": [],
   "source": [
    "train['minutes'] = train[['session','ts']].groupby('session').diff(-1) * (-1/1000/60)"
   ]
  },
  {
   "cell_type": "code",
   "execution_count": 8,
   "id": "15c6fcac",
   "metadata": {
    "execution": {
     "iopub.execute_input": "2024-06-09T15:36:17.057675Z",
     "iopub.status.busy": "2024-06-09T15:36:17.057267Z",
     "iopub.status.idle": "2024-06-09T15:36:17.075028Z",
     "shell.execute_reply": "2024-06-09T15:36:17.073853Z"
    },
    "papermill": {
     "duration": 0.033013,
     "end_time": "2024-06-09T15:36:17.077742",
     "exception": false,
     "start_time": "2024-06-09T15:36:17.044729",
     "status": "completed"
    },
    "tags": []
   },
   "outputs": [
    {
     "data": {
      "text/html": [
       "<div>\n",
       "<style scoped>\n",
       "    .dataframe tbody tr th:only-of-type {\n",
       "        vertical-align: middle;\n",
       "    }\n",
       "\n",
       "    .dataframe tbody tr th {\n",
       "        vertical-align: top;\n",
       "    }\n",
       "\n",
       "    .dataframe thead th {\n",
       "        text-align: right;\n",
       "    }\n",
       "</style>\n",
       "<table border=\"1\" class=\"dataframe\">\n",
       "  <thead>\n",
       "    <tr style=\"text-align: right;\">\n",
       "      <th></th>\n",
       "      <th>session</th>\n",
       "      <th>aid</th>\n",
       "      <th>ts</th>\n",
       "      <th>type</th>\n",
       "      <th>minutes</th>\n",
       "    </tr>\n",
       "  </thead>\n",
       "  <tbody>\n",
       "    <tr>\n",
       "      <th>0</th>\n",
       "      <td>12750000</td>\n",
       "      <td>485849</td>\n",
       "      <td>1661691789284</td>\n",
       "      <td>clicks</td>\n",
       "      <td>1.769800</td>\n",
       "    </tr>\n",
       "    <tr>\n",
       "      <th>1</th>\n",
       "      <td>12750000</td>\n",
       "      <td>1772818</td>\n",
       "      <td>1661691895472</td>\n",
       "      <td>clicks</td>\n",
       "      <td>1.036400</td>\n",
       "    </tr>\n",
       "    <tr>\n",
       "      <th>2</th>\n",
       "      <td>12750000</td>\n",
       "      <td>485849</td>\n",
       "      <td>1661691957656</td>\n",
       "      <td>clicks</td>\n",
       "      <td>NaN</td>\n",
       "    </tr>\n",
       "    <tr>\n",
       "      <th>3</th>\n",
       "      <td>12750001</td>\n",
       "      <td>593230</td>\n",
       "      <td>1661691789526</td>\n",
       "      <td>clicks</td>\n",
       "      <td>3.204383</td>\n",
       "    </tr>\n",
       "    <tr>\n",
       "      <th>4</th>\n",
       "      <td>12750001</td>\n",
       "      <td>1583419</td>\n",
       "      <td>1661691981789</td>\n",
       "      <td>clicks</td>\n",
       "      <td>NaN</td>\n",
       "    </tr>\n",
       "    <tr>\n",
       "      <th>...</th>\n",
       "      <td>...</td>\n",
       "      <td>...</td>\n",
       "      <td>...</td>\n",
       "      <td>...</td>\n",
       "      <td>...</td>\n",
       "    </tr>\n",
       "    <tr>\n",
       "      <th>1097136</th>\n",
       "      <td>12899776</td>\n",
       "      <td>1737908</td>\n",
       "      <td>1661723987073</td>\n",
       "      <td>clicks</td>\n",
       "      <td>NaN</td>\n",
       "    </tr>\n",
       "    <tr>\n",
       "      <th>1097137</th>\n",
       "      <td>12899777</td>\n",
       "      <td>384045</td>\n",
       "      <td>1661723976974</td>\n",
       "      <td>clicks</td>\n",
       "      <td>0.163767</td>\n",
       "    </tr>\n",
       "    <tr>\n",
       "      <th>1097138</th>\n",
       "      <td>12899777</td>\n",
       "      <td>384045</td>\n",
       "      <td>1661723986800</td>\n",
       "      <td>clicks</td>\n",
       "      <td>NaN</td>\n",
       "    </tr>\n",
       "    <tr>\n",
       "      <th>1097139</th>\n",
       "      <td>12899778</td>\n",
       "      <td>561560</td>\n",
       "      <td>1661723983611</td>\n",
       "      <td>clicks</td>\n",
       "      <td>0.188750</td>\n",
       "    </tr>\n",
       "    <tr>\n",
       "      <th>1097140</th>\n",
       "      <td>12899778</td>\n",
       "      <td>32070</td>\n",
       "      <td>1661723994936</td>\n",
       "      <td>clicks</td>\n",
       "      <td>NaN</td>\n",
       "    </tr>\n",
       "  </tbody>\n",
       "</table>\n",
       "<p>1097141 rows × 5 columns</p>\n",
       "</div>"
      ],
      "text/plain": [
       "          session      aid             ts    type   minutes\n",
       "0        12750000   485849  1661691789284  clicks  1.769800\n",
       "1        12750000  1772818  1661691895472  clicks  1.036400\n",
       "2        12750000   485849  1661691957656  clicks       NaN\n",
       "3        12750001   593230  1661691789526  clicks  3.204383\n",
       "4        12750001  1583419  1661691981789  clicks       NaN\n",
       "...           ...      ...            ...     ...       ...\n",
       "1097136  12899776  1737908  1661723987073  clicks       NaN\n",
       "1097137  12899777   384045  1661723976974  clicks  0.163767\n",
       "1097138  12899777   384045  1661723986800  clicks       NaN\n",
       "1097139  12899778   561560  1661723983611  clicks  0.188750\n",
       "1097140  12899778    32070  1661723994936  clicks       NaN\n",
       "\n",
       "[1097141 rows x 5 columns]"
      ]
     },
     "execution_count": 8,
     "metadata": {},
     "output_type": "execute_result"
    }
   ],
   "source": [
    "train"
   ]
  },
  {
   "cell_type": "code",
   "execution_count": 9,
   "id": "1bf04414",
   "metadata": {
    "execution": {
     "iopub.execute_input": "2024-06-09T15:36:17.103603Z",
     "iopub.status.busy": "2024-06-09T15:36:17.103173Z",
     "iopub.status.idle": "2024-06-09T15:36:17.601894Z",
     "shell.execute_reply": "2024-06-09T15:36:17.600778Z"
    },
    "papermill": {
     "duration": 0.515062,
     "end_time": "2024-06-09T15:36:17.604743",
     "exception": false,
     "start_time": "2024-06-09T15:36:17.089681",
     "status": "completed"
    },
    "tags": []
   },
   "outputs": [],
   "source": [
    "temp = train.groupby(['type','aid'])['session'].agg('count').reset_index()\n",
    "temp.columns = ['type','aid','count']"
   ]
  },
  {
   "cell_type": "code",
   "execution_count": 10,
   "id": "3259b6cb",
   "metadata": {
    "execution": {
     "iopub.execute_input": "2024-06-09T15:36:17.629182Z",
     "iopub.status.busy": "2024-06-09T15:36:17.628798Z",
     "iopub.status.idle": "2024-06-09T15:36:17.643164Z",
     "shell.execute_reply": "2024-06-09T15:36:17.641832Z"
    },
    "papermill": {
     "duration": 0.0297,
     "end_time": "2024-06-09T15:36:17.645876",
     "exception": false,
     "start_time": "2024-06-09T15:36:17.616176",
     "status": "completed"
    },
    "tags": []
   },
   "outputs": [
    {
     "data": {
      "text/html": [
       "<div>\n",
       "<style scoped>\n",
       "    .dataframe tbody tr th:only-of-type {\n",
       "        vertical-align: middle;\n",
       "    }\n",
       "\n",
       "    .dataframe tbody tr th {\n",
       "        vertical-align: top;\n",
       "    }\n",
       "\n",
       "    .dataframe thead th {\n",
       "        text-align: right;\n",
       "    }\n",
       "</style>\n",
       "<table border=\"1\" class=\"dataframe\">\n",
       "  <thead>\n",
       "    <tr style=\"text-align: right;\">\n",
       "      <th></th>\n",
       "      <th>type</th>\n",
       "      <th>aid</th>\n",
       "      <th>count</th>\n",
       "    </tr>\n",
       "  </thead>\n",
       "  <tbody>\n",
       "    <tr>\n",
       "      <th>0</th>\n",
       "      <td>carts</td>\n",
       "      <td>3</td>\n",
       "      <td>9</td>\n",
       "    </tr>\n",
       "    <tr>\n",
       "      <th>1</th>\n",
       "      <td>carts</td>\n",
       "      <td>17</td>\n",
       "      <td>1</td>\n",
       "    </tr>\n",
       "    <tr>\n",
       "      <th>2</th>\n",
       "      <td>carts</td>\n",
       "      <td>133</td>\n",
       "      <td>1</td>\n",
       "    </tr>\n",
       "    <tr>\n",
       "      <th>3</th>\n",
       "      <td>carts</td>\n",
       "      <td>204</td>\n",
       "      <td>3</td>\n",
       "    </tr>\n",
       "    <tr>\n",
       "      <th>4</th>\n",
       "      <td>carts</td>\n",
       "      <td>220</td>\n",
       "      <td>1</td>\n",
       "    </tr>\n",
       "    <tr>\n",
       "      <th>...</th>\n",
       "      <td>...</td>\n",
       "      <td>...</td>\n",
       "      <td>...</td>\n",
       "    </tr>\n",
       "    <tr>\n",
       "      <th>364089</th>\n",
       "      <td>orders</td>\n",
       "      <td>1855206</td>\n",
       "      <td>1</td>\n",
       "    </tr>\n",
       "    <tr>\n",
       "      <th>364090</th>\n",
       "      <td>orders</td>\n",
       "      <td>1855280</td>\n",
       "      <td>1</td>\n",
       "    </tr>\n",
       "    <tr>\n",
       "      <th>364091</th>\n",
       "      <td>orders</td>\n",
       "      <td>1855339</td>\n",
       "      <td>1</td>\n",
       "    </tr>\n",
       "    <tr>\n",
       "      <th>364092</th>\n",
       "      <td>orders</td>\n",
       "      <td>1855547</td>\n",
       "      <td>1</td>\n",
       "    </tr>\n",
       "    <tr>\n",
       "      <th>364093</th>\n",
       "      <td>orders</td>\n",
       "      <td>1855572</td>\n",
       "      <td>1</td>\n",
       "    </tr>\n",
       "  </tbody>\n",
       "</table>\n",
       "<p>364094 rows × 3 columns</p>\n",
       "</div>"
      ],
      "text/plain": [
       "          type      aid  count\n",
       "0        carts        3      9\n",
       "1        carts       17      1\n",
       "2        carts      133      1\n",
       "3        carts      204      3\n",
       "4        carts      220      1\n",
       "...        ...      ...    ...\n",
       "364089  orders  1855206      1\n",
       "364090  orders  1855280      1\n",
       "364091  orders  1855339      1\n",
       "364092  orders  1855547      1\n",
       "364093  orders  1855572      1\n",
       "\n",
       "[364094 rows x 3 columns]"
      ]
     },
     "execution_count": 10,
     "metadata": {},
     "output_type": "execute_result"
    }
   ],
   "source": [
    "temp"
   ]
  },
  {
   "cell_type": "code",
   "execution_count": 11,
   "id": "f06d79e8",
   "metadata": {
    "execution": {
     "iopub.execute_input": "2024-06-09T15:36:17.671803Z",
     "iopub.status.busy": "2024-06-09T15:36:17.671418Z",
     "iopub.status.idle": "2024-06-09T15:36:17.756973Z",
     "shell.execute_reply": "2024-06-09T15:36:17.755989Z"
    },
    "papermill": {
     "duration": 0.101717,
     "end_time": "2024-06-09T15:36:17.759751",
     "exception": false,
     "start_time": "2024-06-09T15:36:17.658034",
     "status": "completed"
    },
    "tags": []
   },
   "outputs": [],
   "source": [
    "order_df = temp.loc[temp.type == 'orders',:]\n",
    "order_df = order_df.sort_values(['count'],ascending=False).reset_index()"
   ]
  },
  {
   "cell_type": "code",
   "execution_count": 12,
   "id": "2c8ff11d",
   "metadata": {
    "execution": {
     "iopub.execute_input": "2024-06-09T15:36:17.784823Z",
     "iopub.status.busy": "2024-06-09T15:36:17.784413Z",
     "iopub.status.idle": "2024-06-09T15:36:17.798210Z",
     "shell.execute_reply": "2024-06-09T15:36:17.797032Z"
    },
    "papermill": {
     "duration": 0.029434,
     "end_time": "2024-06-09T15:36:17.800963",
     "exception": false,
     "start_time": "2024-06-09T15:36:17.771529",
     "status": "completed"
    },
    "tags": []
   },
   "outputs": [
    {
     "data": {
      "text/html": [
       "<div>\n",
       "<style scoped>\n",
       "    .dataframe tbody tr th:only-of-type {\n",
       "        vertical-align: middle;\n",
       "    }\n",
       "\n",
       "    .dataframe tbody tr th {\n",
       "        vertical-align: top;\n",
       "    }\n",
       "\n",
       "    .dataframe thead th {\n",
       "        text-align: right;\n",
       "    }\n",
       "</style>\n",
       "<table border=\"1\" class=\"dataframe\">\n",
       "  <thead>\n",
       "    <tr style=\"text-align: right;\">\n",
       "      <th></th>\n",
       "      <th>index</th>\n",
       "      <th>type</th>\n",
       "      <th>aid</th>\n",
       "      <th>count</th>\n",
       "    </tr>\n",
       "  </thead>\n",
       "  <tbody>\n",
       "    <tr>\n",
       "      <th>0</th>\n",
       "      <td>342299</td>\n",
       "      <td>orders</td>\n",
       "      <td>122983</td>\n",
       "      <td>31</td>\n",
       "    </tr>\n",
       "    <tr>\n",
       "      <th>1</th>\n",
       "      <td>358896</td>\n",
       "      <td>orders</td>\n",
       "      <td>1445562</td>\n",
       "      <td>21</td>\n",
       "    </tr>\n",
       "    <tr>\n",
       "      <th>2</th>\n",
       "      <td>359095</td>\n",
       "      <td>orders</td>\n",
       "      <td>1462420</td>\n",
       "      <td>17</td>\n",
       "    </tr>\n",
       "    <tr>\n",
       "      <th>3</th>\n",
       "      <td>359075</td>\n",
       "      <td>orders</td>\n",
       "      <td>1460752</td>\n",
       "      <td>17</td>\n",
       "    </tr>\n",
       "    <tr>\n",
       "      <th>4</th>\n",
       "      <td>359072</td>\n",
       "      <td>orders</td>\n",
       "      <td>1460571</td>\n",
       "      <td>17</td>\n",
       "    </tr>\n",
       "    <tr>\n",
       "      <th>...</th>\n",
       "      <td>...</td>\n",
       "      <td>...</td>\n",
       "      <td>...</td>\n",
       "      <td>...</td>\n",
       "    </tr>\n",
       "    <tr>\n",
       "      <th>23282</th>\n",
       "      <td>349439</td>\n",
       "      <td>orders</td>\n",
       "      <td>699033</td>\n",
       "      <td>1</td>\n",
       "    </tr>\n",
       "    <tr>\n",
       "      <th>23283</th>\n",
       "      <td>349438</td>\n",
       "      <td>orders</td>\n",
       "      <td>699021</td>\n",
       "      <td>1</td>\n",
       "    </tr>\n",
       "    <tr>\n",
       "      <th>23284</th>\n",
       "      <td>349436</td>\n",
       "      <td>orders</td>\n",
       "      <td>698928</td>\n",
       "      <td>1</td>\n",
       "    </tr>\n",
       "    <tr>\n",
       "      <th>23285</th>\n",
       "      <td>349434</td>\n",
       "      <td>orders</td>\n",
       "      <td>698825</td>\n",
       "      <td>1</td>\n",
       "    </tr>\n",
       "    <tr>\n",
       "      <th>23286</th>\n",
       "      <td>364093</td>\n",
       "      <td>orders</td>\n",
       "      <td>1855572</td>\n",
       "      <td>1</td>\n",
       "    </tr>\n",
       "  </tbody>\n",
       "</table>\n",
       "<p>23287 rows × 4 columns</p>\n",
       "</div>"
      ],
      "text/plain": [
       "        index    type      aid  count\n",
       "0      342299  orders   122983     31\n",
       "1      358896  orders  1445562     21\n",
       "2      359095  orders  1462420     17\n",
       "3      359075  orders  1460752     17\n",
       "4      359072  orders  1460571     17\n",
       "...       ...     ...      ...    ...\n",
       "23282  349439  orders   699033      1\n",
       "23283  349438  orders   699021      1\n",
       "23284  349436  orders   698928      1\n",
       "23285  349434  orders   698825      1\n",
       "23286  364093  orders  1855572      1\n",
       "\n",
       "[23287 rows x 4 columns]"
      ]
     },
     "execution_count": 12,
     "metadata": {},
     "output_type": "execute_result"
    }
   ],
   "source": [
    "order_df"
   ]
  },
  {
   "cell_type": "code",
   "execution_count": 13,
   "id": "7d24cf8a",
   "metadata": {
    "execution": {
     "iopub.execute_input": "2024-06-09T15:36:17.826881Z",
     "iopub.status.busy": "2024-06-09T15:36:17.826471Z",
     "iopub.status.idle": "2024-06-09T15:36:17.852821Z",
     "shell.execute_reply": "2024-06-09T15:36:17.851756Z"
    },
    "papermill": {
     "duration": 0.042373,
     "end_time": "2024-06-09T15:36:17.855441",
     "exception": false,
     "start_time": "2024-06-09T15:36:17.813068",
     "status": "completed"
    },
    "tags": []
   },
   "outputs": [],
   "source": [
    "order_df.aid = ' ' + order_df.aid.astype('str')\n",
    "best_sold_list = order_df[:20].aid.sum()"
   ]
  },
  {
   "cell_type": "code",
   "execution_count": 14,
   "id": "757e36a2",
   "metadata": {
    "execution": {
     "iopub.execute_input": "2024-06-09T15:36:17.881452Z",
     "iopub.status.busy": "2024-06-09T15:36:17.880950Z",
     "iopub.status.idle": "2024-06-09T15:36:17.888194Z",
     "shell.execute_reply": "2024-06-09T15:36:17.887047Z"
    },
    "papermill": {
     "duration": 0.023316,
     "end_time": "2024-06-09T15:36:17.890784",
     "exception": false,
     "start_time": "2024-06-09T15:36:17.867468",
     "status": "completed"
    },
    "tags": []
   },
   "outputs": [
    {
     "data": {
      "text/plain": [
       "' 122983 1445562 1462420 1460752 1460571 1006198 1531805 1639484 1043508 332654 1125638 162064 1520039 1281615 409620 1534690 1257293 752652 1689044 876129'"
      ]
     },
     "execution_count": 14,
     "metadata": {},
     "output_type": "execute_result"
    }
   ],
   "source": [
    "best_sold_list"
   ]
  },
  {
   "cell_type": "code",
   "execution_count": 15,
   "id": "0462d97a",
   "metadata": {
    "execution": {
     "iopub.execute_input": "2024-06-09T15:36:17.917665Z",
     "iopub.status.busy": "2024-06-09T15:36:17.917204Z",
     "iopub.status.idle": "2024-06-09T15:37:28.420699Z",
     "shell.execute_reply": "2024-06-09T15:37:28.419495Z"
    },
    "papermill": {
     "duration": 70.520189,
     "end_time": "2024-06-09T15:37:28.423671",
     "exception": false,
     "start_time": "2024-06-09T15:36:17.903482",
     "status": "completed"
    },
    "tags": []
   },
   "outputs": [],
   "source": [
    "test_df = pd.DataFrame()\n",
    "\n",
    "chunks_test = pd.read_json('/kaggle/input/otto-recommender-system/test.jsonl',lines=True,chunksize=chunksize)\n",
    "\n",
    "for i,chunk in enumerate(chunks_test):\n",
    "    if i < 100:\n",
    "        event_dict = {'session':[],'aid':[],'ts':[],'type':[]}\n",
    "\n",
    "        for session, events in zip(chunk['session'].tolist(), chunk['events'].tolist()):\n",
    "            for event in events:\n",
    "                event_dict['session'].append(session)\n",
    "                event_dict['aid'].append(event['aid'])\n",
    "                event_dict['ts'].append(event['ts'])\n",
    "                event_dict['type'].append(event['type'])\n",
    "\n",
    "        chunk_session = pd.DataFrame(event_dict)\n",
    "        test_df = pd.concat([test_df,chunk_session])\n",
    "    else:\n",
    "        break\n",
    "    \n",
    "test_df = test_df.reset_index(drop=True)"
   ]
  },
  {
   "cell_type": "code",
   "execution_count": 16,
   "id": "51ad2f0d",
   "metadata": {
    "execution": {
     "iopub.execute_input": "2024-06-09T15:37:28.450561Z",
     "iopub.status.busy": "2024-06-09T15:37:28.450138Z",
     "iopub.status.idle": "2024-06-09T15:37:28.464787Z",
     "shell.execute_reply": "2024-06-09T15:37:28.463615Z"
    },
    "papermill": {
     "duration": 0.030844,
     "end_time": "2024-06-09T15:37:28.467291",
     "exception": false,
     "start_time": "2024-06-09T15:37:28.436447",
     "status": "completed"
    },
    "tags": []
   },
   "outputs": [
    {
     "data": {
      "text/html": [
       "<div>\n",
       "<style scoped>\n",
       "    .dataframe tbody tr th:only-of-type {\n",
       "        vertical-align: middle;\n",
       "    }\n",
       "\n",
       "    .dataframe tbody tr th {\n",
       "        vertical-align: top;\n",
       "    }\n",
       "\n",
       "    .dataframe thead th {\n",
       "        text-align: right;\n",
       "    }\n",
       "</style>\n",
       "<table border=\"1\" class=\"dataframe\">\n",
       "  <thead>\n",
       "    <tr style=\"text-align: right;\">\n",
       "      <th></th>\n",
       "      <th>session</th>\n",
       "      <th>aid</th>\n",
       "      <th>ts</th>\n",
       "      <th>type</th>\n",
       "    </tr>\n",
       "  </thead>\n",
       "  <tbody>\n",
       "    <tr>\n",
       "      <th>0</th>\n",
       "      <td>12899779</td>\n",
       "      <td>59625</td>\n",
       "      <td>1661724000278</td>\n",
       "      <td>clicks</td>\n",
       "    </tr>\n",
       "    <tr>\n",
       "      <th>1</th>\n",
       "      <td>12899780</td>\n",
       "      <td>1142000</td>\n",
       "      <td>1661724000378</td>\n",
       "      <td>clicks</td>\n",
       "    </tr>\n",
       "    <tr>\n",
       "      <th>2</th>\n",
       "      <td>12899780</td>\n",
       "      <td>582732</td>\n",
       "      <td>1661724058352</td>\n",
       "      <td>clicks</td>\n",
       "    </tr>\n",
       "    <tr>\n",
       "      <th>3</th>\n",
       "      <td>12899780</td>\n",
       "      <td>973453</td>\n",
       "      <td>1661724109199</td>\n",
       "      <td>clicks</td>\n",
       "    </tr>\n",
       "    <tr>\n",
       "      <th>4</th>\n",
       "      <td>12899780</td>\n",
       "      <td>736515</td>\n",
       "      <td>1661724136868</td>\n",
       "      <td>clicks</td>\n",
       "    </tr>\n",
       "    <tr>\n",
       "      <th>...</th>\n",
       "      <td>...</td>\n",
       "      <td>...</td>\n",
       "      <td>...</td>\n",
       "      <td>...</td>\n",
       "    </tr>\n",
       "    <tr>\n",
       "      <th>6928118</th>\n",
       "      <td>14571577</td>\n",
       "      <td>1141710</td>\n",
       "      <td>1662328774770</td>\n",
       "      <td>clicks</td>\n",
       "    </tr>\n",
       "    <tr>\n",
       "      <th>6928119</th>\n",
       "      <td>14571578</td>\n",
       "      <td>519105</td>\n",
       "      <td>1662328775009</td>\n",
       "      <td>clicks</td>\n",
       "    </tr>\n",
       "    <tr>\n",
       "      <th>6928120</th>\n",
       "      <td>14571579</td>\n",
       "      <td>739876</td>\n",
       "      <td>1662328775605</td>\n",
       "      <td>clicks</td>\n",
       "    </tr>\n",
       "    <tr>\n",
       "      <th>6928121</th>\n",
       "      <td>14571580</td>\n",
       "      <td>202353</td>\n",
       "      <td>1662328781067</td>\n",
       "      <td>clicks</td>\n",
       "    </tr>\n",
       "    <tr>\n",
       "      <th>6928122</th>\n",
       "      <td>14571581</td>\n",
       "      <td>1100210</td>\n",
       "      <td>1662328791563</td>\n",
       "      <td>clicks</td>\n",
       "    </tr>\n",
       "  </tbody>\n",
       "</table>\n",
       "<p>6928123 rows × 4 columns</p>\n",
       "</div>"
      ],
      "text/plain": [
       "          session      aid             ts    type\n",
       "0        12899779    59625  1661724000278  clicks\n",
       "1        12899780  1142000  1661724000378  clicks\n",
       "2        12899780   582732  1661724058352  clicks\n",
       "3        12899780   973453  1661724109199  clicks\n",
       "4        12899780   736515  1661724136868  clicks\n",
       "...           ...      ...            ...     ...\n",
       "6928118  14571577  1141710  1662328774770  clicks\n",
       "6928119  14571578   519105  1662328775009  clicks\n",
       "6928120  14571579   739876  1662328775605  clicks\n",
       "6928121  14571580   202353  1662328781067  clicks\n",
       "6928122  14571581  1100210  1662328791563  clicks\n",
       "\n",
       "[6928123 rows x 4 columns]"
      ]
     },
     "execution_count": 16,
     "metadata": {},
     "output_type": "execute_result"
    }
   ],
   "source": [
    "test_df"
   ]
  },
  {
   "cell_type": "code",
   "execution_count": 17,
   "id": "d68dc84d",
   "metadata": {
    "execution": {
     "iopub.execute_input": "2024-06-09T15:37:28.494618Z",
     "iopub.status.busy": "2024-06-09T15:37:28.494176Z",
     "iopub.status.idle": "2024-06-09T15:37:31.524978Z",
     "shell.execute_reply": "2024-06-09T15:37:31.523625Z"
    },
    "papermill": {
     "duration": 3.047761,
     "end_time": "2024-06-09T15:37:31.527756",
     "exception": false,
     "start_time": "2024-06-09T15:37:28.479995",
     "status": "completed"
    },
    "tags": []
   },
   "outputs": [],
   "source": [
    "test_df['minutes'] = test_df[['session','ts']].groupby('session').diff(-1) * (-1/1000/60)\n",
    "test_df = test_df.sort_values(by='minutes',ascending=False)"
   ]
  },
  {
   "cell_type": "code",
   "execution_count": 18,
   "id": "5d899f9a",
   "metadata": {
    "execution": {
     "iopub.execute_input": "2024-06-09T15:37:31.555634Z",
     "iopub.status.busy": "2024-06-09T15:37:31.555185Z",
     "iopub.status.idle": "2024-06-09T15:37:48.016473Z",
     "shell.execute_reply": "2024-06-09T15:37:48.015134Z"
    },
    "papermill": {
     "duration": 16.478894,
     "end_time": "2024-06-09T15:37:48.019598",
     "exception": false,
     "start_time": "2024-06-09T15:37:31.540704",
     "status": "completed"
    },
    "tags": []
   },
   "outputs": [],
   "source": [
    "test_action_df = test_df.assign(aid=test_df['aid'].astype(str).radd(' ')).groupby(['session','type'])['aid'].sum().reset_index()"
   ]
  },
  {
   "cell_type": "code",
   "execution_count": 19,
   "id": "5c0be490",
   "metadata": {
    "execution": {
     "iopub.execute_input": "2024-06-09T15:37:48.047284Z",
     "iopub.status.busy": "2024-06-09T15:37:48.046878Z",
     "iopub.status.idle": "2024-06-09T15:37:48.061766Z",
     "shell.execute_reply": "2024-06-09T15:37:48.060509Z"
    },
    "papermill": {
     "duration": 0.031906,
     "end_time": "2024-06-09T15:37:48.064340",
     "exception": false,
     "start_time": "2024-06-09T15:37:48.032434",
     "status": "completed"
    },
    "tags": []
   },
   "outputs": [
    {
     "data": {
      "text/html": [
       "<div>\n",
       "<style scoped>\n",
       "    .dataframe tbody tr th:only-of-type {\n",
       "        vertical-align: middle;\n",
       "    }\n",
       "\n",
       "    .dataframe tbody tr th {\n",
       "        vertical-align: top;\n",
       "    }\n",
       "\n",
       "    .dataframe thead th {\n",
       "        text-align: right;\n",
       "    }\n",
       "</style>\n",
       "<table border=\"1\" class=\"dataframe\">\n",
       "  <thead>\n",
       "    <tr style=\"text-align: right;\">\n",
       "      <th></th>\n",
       "      <th>session</th>\n",
       "      <th>type</th>\n",
       "      <th>aid</th>\n",
       "    </tr>\n",
       "  </thead>\n",
       "  <tbody>\n",
       "    <tr>\n",
       "      <th>0</th>\n",
       "      <td>12899779</td>\n",
       "      <td>clicks</td>\n",
       "      <td>59625</td>\n",
       "    </tr>\n",
       "    <tr>\n",
       "      <th>1</th>\n",
       "      <td>12899780</td>\n",
       "      <td>clicks</td>\n",
       "      <td>1142000 582732 973453 736515 1142000</td>\n",
       "    </tr>\n",
       "    <tr>\n",
       "      <th>2</th>\n",
       "      <td>12899781</td>\n",
       "      <td>carts</td>\n",
       "      <td>199008</td>\n",
       "    </tr>\n",
       "    <tr>\n",
       "      <th>3</th>\n",
       "      <td>12899781</td>\n",
       "      <td>clicks</td>\n",
       "      <td>199008 194067 199008 199008 199008 199008 573...</td>\n",
       "    </tr>\n",
       "    <tr>\n",
       "      <th>4</th>\n",
       "      <td>12899782</td>\n",
       "      <td>carts</td>\n",
       "      <td>1494780 834354 975116 127404 413962 595994 13...</td>\n",
       "    </tr>\n",
       "    <tr>\n",
       "      <th>...</th>\n",
       "      <td>...</td>\n",
       "      <td>...</td>\n",
       "      <td>...</td>\n",
       "    </tr>\n",
       "    <tr>\n",
       "      <th>1948868</th>\n",
       "      <td>14571577</td>\n",
       "      <td>clicks</td>\n",
       "      <td>1141710</td>\n",
       "    </tr>\n",
       "    <tr>\n",
       "      <th>1948869</th>\n",
       "      <td>14571578</td>\n",
       "      <td>clicks</td>\n",
       "      <td>519105</td>\n",
       "    </tr>\n",
       "    <tr>\n",
       "      <th>1948870</th>\n",
       "      <td>14571579</td>\n",
       "      <td>clicks</td>\n",
       "      <td>739876</td>\n",
       "    </tr>\n",
       "    <tr>\n",
       "      <th>1948871</th>\n",
       "      <td>14571580</td>\n",
       "      <td>clicks</td>\n",
       "      <td>202353</td>\n",
       "    </tr>\n",
       "    <tr>\n",
       "      <th>1948872</th>\n",
       "      <td>14571581</td>\n",
       "      <td>clicks</td>\n",
       "      <td>1100210</td>\n",
       "    </tr>\n",
       "  </tbody>\n",
       "</table>\n",
       "<p>1948873 rows × 3 columns</p>\n",
       "</div>"
      ],
      "text/plain": [
       "          session    type                                                aid\n",
       "0        12899779  clicks                                              59625\n",
       "1        12899780  clicks               1142000 582732 973453 736515 1142000\n",
       "2        12899781   carts                                             199008\n",
       "3        12899781  clicks   199008 194067 199008 199008 199008 199008 573...\n",
       "4        12899782   carts   1494780 834354 975116 127404 413962 595994 13...\n",
       "...           ...     ...                                                ...\n",
       "1948868  14571577  clicks                                            1141710\n",
       "1948869  14571578  clicks                                             519105\n",
       "1948870  14571579  clicks                                             739876\n",
       "1948871  14571580  clicks                                             202353\n",
       "1948872  14571581  clicks                                            1100210\n",
       "\n",
       "[1948873 rows x 3 columns]"
      ]
     },
     "execution_count": 19,
     "metadata": {},
     "output_type": "execute_result"
    }
   ],
   "source": [
    "test_action_df"
   ]
  },
  {
   "cell_type": "code",
   "execution_count": 20,
   "id": "2ff45480",
   "metadata": {
    "execution": {
     "iopub.execute_input": "2024-06-09T15:37:48.092471Z",
     "iopub.status.busy": "2024-06-09T15:37:48.092048Z",
     "iopub.status.idle": "2024-06-09T15:37:48.489504Z",
     "shell.execute_reply": "2024-06-09T15:37:48.488447Z"
    },
    "papermill": {
     "duration": 0.415507,
     "end_time": "2024-06-09T15:37:48.492773",
     "exception": false,
     "start_time": "2024-06-09T15:37:48.077266",
     "status": "completed"
    },
    "tags": []
   },
   "outputs": [],
   "source": [
    "next_orders_df = pd.DataFrame(test_action_df.loc[(test_action_df.type == 'carts'),:])\n",
    "next_orders_df['type'] = 'orders'"
   ]
  },
  {
   "cell_type": "code",
   "execution_count": 21,
   "id": "7aab3a78",
   "metadata": {
    "execution": {
     "iopub.execute_input": "2024-06-09T15:37:48.520485Z",
     "iopub.status.busy": "2024-06-09T15:37:48.520069Z",
     "iopub.status.idle": "2024-06-09T15:37:48.534804Z",
     "shell.execute_reply": "2024-06-09T15:37:48.533325Z"
    },
    "papermill": {
     "duration": 0.031515,
     "end_time": "2024-06-09T15:37:48.537329",
     "exception": false,
     "start_time": "2024-06-09T15:37:48.505814",
     "status": "completed"
    },
    "tags": []
   },
   "outputs": [
    {
     "data": {
      "text/html": [
       "<div>\n",
       "<style scoped>\n",
       "    .dataframe tbody tr th:only-of-type {\n",
       "        vertical-align: middle;\n",
       "    }\n",
       "\n",
       "    .dataframe tbody tr th {\n",
       "        vertical-align: top;\n",
       "    }\n",
       "\n",
       "    .dataframe thead th {\n",
       "        text-align: right;\n",
       "    }\n",
       "</style>\n",
       "<table border=\"1\" class=\"dataframe\">\n",
       "  <thead>\n",
       "    <tr style=\"text-align: right;\">\n",
       "      <th></th>\n",
       "      <th>session</th>\n",
       "      <th>type</th>\n",
       "      <th>aid</th>\n",
       "    </tr>\n",
       "  </thead>\n",
       "  <tbody>\n",
       "    <tr>\n",
       "      <th>2</th>\n",
       "      <td>12899781</td>\n",
       "      <td>orders</td>\n",
       "      <td>199008</td>\n",
       "    </tr>\n",
       "    <tr>\n",
       "      <th>4</th>\n",
       "      <td>12899782</td>\n",
       "      <td>orders</td>\n",
       "      <td>1494780 834354 975116 127404 413962 595994 13...</td>\n",
       "    </tr>\n",
       "    <tr>\n",
       "      <th>10</th>\n",
       "      <td>12899786</td>\n",
       "      <td>orders</td>\n",
       "      <td>955252</td>\n",
       "    </tr>\n",
       "    <tr>\n",
       "      <th>12</th>\n",
       "      <td>12899787</td>\n",
       "      <td>orders</td>\n",
       "      <td>1682750 1682750 1682750</td>\n",
       "    </tr>\n",
       "    <tr>\n",
       "      <th>16</th>\n",
       "      <td>12899790</td>\n",
       "      <td>orders</td>\n",
       "      <td>1830166 1219653</td>\n",
       "    </tr>\n",
       "    <tr>\n",
       "      <th>...</th>\n",
       "      <td>...</td>\n",
       "      <td>...</td>\n",
       "      <td>...</td>\n",
       "    </tr>\n",
       "    <tr>\n",
       "      <th>1948716</th>\n",
       "      <td>14571430</td>\n",
       "      <td>orders</td>\n",
       "      <td>903014</td>\n",
       "    </tr>\n",
       "    <tr>\n",
       "      <th>1948730</th>\n",
       "      <td>14571443</td>\n",
       "      <td>orders</td>\n",
       "      <td>942326</td>\n",
       "    </tr>\n",
       "    <tr>\n",
       "      <th>1948774</th>\n",
       "      <td>14571486</td>\n",
       "      <td>orders</td>\n",
       "      <td>350578</td>\n",
       "    </tr>\n",
       "    <tr>\n",
       "      <th>1948788</th>\n",
       "      <td>14571499</td>\n",
       "      <td>orders</td>\n",
       "      <td>1132907</td>\n",
       "    </tr>\n",
       "    <tr>\n",
       "      <th>1948824</th>\n",
       "      <td>14571534</td>\n",
       "      <td>orders</td>\n",
       "      <td>272221 272221</td>\n",
       "    </tr>\n",
       "  </tbody>\n",
       "</table>\n",
       "<p>242833 rows × 3 columns</p>\n",
       "</div>"
      ],
      "text/plain": [
       "          session    type                                                aid\n",
       "2        12899781  orders                                             199008\n",
       "4        12899782  orders   1494780 834354 975116 127404 413962 595994 13...\n",
       "10       12899786  orders                                             955252\n",
       "12       12899787  orders                            1682750 1682750 1682750\n",
       "16       12899790  orders                                    1830166 1219653\n",
       "...           ...     ...                                                ...\n",
       "1948716  14571430  orders                                             903014\n",
       "1948730  14571443  orders                                             942326\n",
       "1948774  14571486  orders                                             350578\n",
       "1948788  14571499  orders                                            1132907\n",
       "1948824  14571534  orders                                      272221 272221\n",
       "\n",
       "[242833 rows x 3 columns]"
      ]
     },
     "execution_count": 21,
     "metadata": {},
     "output_type": "execute_result"
    }
   ],
   "source": [
    "next_orders_df"
   ]
  },
  {
   "cell_type": "code",
   "execution_count": 22,
   "id": "6329784f",
   "metadata": {
    "execution": {
     "iopub.execute_input": "2024-06-09T15:37:48.566474Z",
     "iopub.status.busy": "2024-06-09T15:37:48.565439Z",
     "iopub.status.idle": "2024-06-09T15:37:49.108381Z",
     "shell.execute_reply": "2024-06-09T15:37:49.106951Z"
    },
    "papermill": {
     "duration": 0.560732,
     "end_time": "2024-06-09T15:37:49.111482",
     "exception": false,
     "start_time": "2024-06-09T15:37:48.550750",
     "status": "completed"
    },
    "tags": []
   },
   "outputs": [],
   "source": [
    "next_carts_df = pd.DataFrame(test_action_df.loc[(test_action_df.type == 'clicks'),:])\n",
    "next_carts_df['type'] = 'carts'"
   ]
  },
  {
   "cell_type": "code",
   "execution_count": 23,
   "id": "aab14570",
   "metadata": {
    "execution": {
     "iopub.execute_input": "2024-06-09T15:37:49.140132Z",
     "iopub.status.busy": "2024-06-09T15:37:49.139729Z",
     "iopub.status.idle": "2024-06-09T15:37:49.152770Z",
     "shell.execute_reply": "2024-06-09T15:37:49.151551Z"
    },
    "papermill": {
     "duration": 0.030168,
     "end_time": "2024-06-09T15:37:49.155215",
     "exception": false,
     "start_time": "2024-06-09T15:37:49.125047",
     "status": "completed"
    },
    "tags": []
   },
   "outputs": [
    {
     "data": {
      "text/html": [
       "<div>\n",
       "<style scoped>\n",
       "    .dataframe tbody tr th:only-of-type {\n",
       "        vertical-align: middle;\n",
       "    }\n",
       "\n",
       "    .dataframe tbody tr th {\n",
       "        vertical-align: top;\n",
       "    }\n",
       "\n",
       "    .dataframe thead th {\n",
       "        text-align: right;\n",
       "    }\n",
       "</style>\n",
       "<table border=\"1\" class=\"dataframe\">\n",
       "  <thead>\n",
       "    <tr style=\"text-align: right;\">\n",
       "      <th></th>\n",
       "      <th>session</th>\n",
       "      <th>type</th>\n",
       "      <th>aid</th>\n",
       "    </tr>\n",
       "  </thead>\n",
       "  <tbody>\n",
       "    <tr>\n",
       "      <th>0</th>\n",
       "      <td>12899779</td>\n",
       "      <td>carts</td>\n",
       "      <td>59625</td>\n",
       "    </tr>\n",
       "    <tr>\n",
       "      <th>1</th>\n",
       "      <td>12899780</td>\n",
       "      <td>carts</td>\n",
       "      <td>1142000 582732 973453 736515 1142000</td>\n",
       "    </tr>\n",
       "    <tr>\n",
       "      <th>3</th>\n",
       "      <td>12899781</td>\n",
       "      <td>carts</td>\n",
       "      <td>199008 194067 199008 199008 199008 199008 573...</td>\n",
       "    </tr>\n",
       "    <tr>\n",
       "      <th>5</th>\n",
       "      <td>12899782</td>\n",
       "      <td>carts</td>\n",
       "      <td>603159 779477 1299062 602722 413962 975116 16...</td>\n",
       "    </tr>\n",
       "    <tr>\n",
       "      <th>7</th>\n",
       "      <td>12899783</td>\n",
       "      <td>carts</td>\n",
       "      <td>607638 1729553 255297 300127 1754419 1216820 ...</td>\n",
       "    </tr>\n",
       "    <tr>\n",
       "      <th>...</th>\n",
       "      <td>...</td>\n",
       "      <td>...</td>\n",
       "      <td>...</td>\n",
       "    </tr>\n",
       "    <tr>\n",
       "      <th>1948868</th>\n",
       "      <td>14571577</td>\n",
       "      <td>carts</td>\n",
       "      <td>1141710</td>\n",
       "    </tr>\n",
       "    <tr>\n",
       "      <th>1948869</th>\n",
       "      <td>14571578</td>\n",
       "      <td>carts</td>\n",
       "      <td>519105</td>\n",
       "    </tr>\n",
       "    <tr>\n",
       "      <th>1948870</th>\n",
       "      <td>14571579</td>\n",
       "      <td>carts</td>\n",
       "      <td>739876</td>\n",
       "    </tr>\n",
       "    <tr>\n",
       "      <th>1948871</th>\n",
       "      <td>14571580</td>\n",
       "      <td>carts</td>\n",
       "      <td>202353</td>\n",
       "    </tr>\n",
       "    <tr>\n",
       "      <th>1948872</th>\n",
       "      <td>14571581</td>\n",
       "      <td>carts</td>\n",
       "      <td>1100210</td>\n",
       "    </tr>\n",
       "  </tbody>\n",
       "</table>\n",
       "<p>1670191 rows × 3 columns</p>\n",
       "</div>"
      ],
      "text/plain": [
       "          session   type                                                aid\n",
       "0        12899779  carts                                              59625\n",
       "1        12899780  carts               1142000 582732 973453 736515 1142000\n",
       "3        12899781  carts   199008 194067 199008 199008 199008 199008 573...\n",
       "5        12899782  carts   603159 779477 1299062 602722 413962 975116 16...\n",
       "7        12899783  carts   607638 1729553 255297 300127 1754419 1216820 ...\n",
       "...           ...    ...                                                ...\n",
       "1948868  14571577  carts                                            1141710\n",
       "1948869  14571578  carts                                             519105\n",
       "1948870  14571579  carts                                             739876\n",
       "1948871  14571580  carts                                             202353\n",
       "1948872  14571581  carts                                            1100210\n",
       "\n",
       "[1670191 rows x 3 columns]"
      ]
     },
     "execution_count": 23,
     "metadata": {},
     "output_type": "execute_result"
    }
   ],
   "source": [
    "next_carts_df"
   ]
  },
  {
   "cell_type": "code",
   "execution_count": 24,
   "id": "7fdcc358",
   "metadata": {
    "execution": {
     "iopub.execute_input": "2024-06-09T15:37:49.184489Z",
     "iopub.status.busy": "2024-06-09T15:37:49.183520Z",
     "iopub.status.idle": "2024-06-09T15:37:50.132065Z",
     "shell.execute_reply": "2024-06-09T15:37:50.130967Z"
    },
    "papermill": {
     "duration": 0.966093,
     "end_time": "2024-06-09T15:37:50.134920",
     "exception": false,
     "start_time": "2024-06-09T15:37:49.168827",
     "status": "completed"
    },
    "tags": []
   },
   "outputs": [],
   "source": [
    "next_clicks_df = pd.DataFrame(test_action_df.loc[(test_action_df.type == 'clicks'),:]).copy()"
   ]
  },
  {
   "cell_type": "code",
   "execution_count": 25,
   "id": "fee8220f",
   "metadata": {
    "execution": {
     "iopub.execute_input": "2024-06-09T15:37:50.164841Z",
     "iopub.status.busy": "2024-06-09T15:37:50.164446Z",
     "iopub.status.idle": "2024-06-09T15:37:50.177656Z",
     "shell.execute_reply": "2024-06-09T15:37:50.176513Z"
    },
    "papermill": {
     "duration": 0.031654,
     "end_time": "2024-06-09T15:37:50.180673",
     "exception": false,
     "start_time": "2024-06-09T15:37:50.149019",
     "status": "completed"
    },
    "tags": []
   },
   "outputs": [
    {
     "data": {
      "text/html": [
       "<div>\n",
       "<style scoped>\n",
       "    .dataframe tbody tr th:only-of-type {\n",
       "        vertical-align: middle;\n",
       "    }\n",
       "\n",
       "    .dataframe tbody tr th {\n",
       "        vertical-align: top;\n",
       "    }\n",
       "\n",
       "    .dataframe thead th {\n",
       "        text-align: right;\n",
       "    }\n",
       "</style>\n",
       "<table border=\"1\" class=\"dataframe\">\n",
       "  <thead>\n",
       "    <tr style=\"text-align: right;\">\n",
       "      <th></th>\n",
       "      <th>session</th>\n",
       "      <th>type</th>\n",
       "      <th>aid</th>\n",
       "    </tr>\n",
       "  </thead>\n",
       "  <tbody>\n",
       "    <tr>\n",
       "      <th>0</th>\n",
       "      <td>12899779</td>\n",
       "      <td>clicks</td>\n",
       "      <td>59625</td>\n",
       "    </tr>\n",
       "    <tr>\n",
       "      <th>1</th>\n",
       "      <td>12899780</td>\n",
       "      <td>clicks</td>\n",
       "      <td>1142000 582732 973453 736515 1142000</td>\n",
       "    </tr>\n",
       "    <tr>\n",
       "      <th>3</th>\n",
       "      <td>12899781</td>\n",
       "      <td>clicks</td>\n",
       "      <td>199008 194067 199008 199008 199008 199008 573...</td>\n",
       "    </tr>\n",
       "    <tr>\n",
       "      <th>5</th>\n",
       "      <td>12899782</td>\n",
       "      <td>clicks</td>\n",
       "      <td>603159 779477 1299062 602722 413962 975116 16...</td>\n",
       "    </tr>\n",
       "    <tr>\n",
       "      <th>7</th>\n",
       "      <td>12899783</td>\n",
       "      <td>clicks</td>\n",
       "      <td>607638 1729553 255297 300127 1754419 1216820 ...</td>\n",
       "    </tr>\n",
       "    <tr>\n",
       "      <th>...</th>\n",
       "      <td>...</td>\n",
       "      <td>...</td>\n",
       "      <td>...</td>\n",
       "    </tr>\n",
       "    <tr>\n",
       "      <th>1948868</th>\n",
       "      <td>14571577</td>\n",
       "      <td>clicks</td>\n",
       "      <td>1141710</td>\n",
       "    </tr>\n",
       "    <tr>\n",
       "      <th>1948869</th>\n",
       "      <td>14571578</td>\n",
       "      <td>clicks</td>\n",
       "      <td>519105</td>\n",
       "    </tr>\n",
       "    <tr>\n",
       "      <th>1948870</th>\n",
       "      <td>14571579</td>\n",
       "      <td>clicks</td>\n",
       "      <td>739876</td>\n",
       "    </tr>\n",
       "    <tr>\n",
       "      <th>1948871</th>\n",
       "      <td>14571580</td>\n",
       "      <td>clicks</td>\n",
       "      <td>202353</td>\n",
       "    </tr>\n",
       "    <tr>\n",
       "      <th>1948872</th>\n",
       "      <td>14571581</td>\n",
       "      <td>clicks</td>\n",
       "      <td>1100210</td>\n",
       "    </tr>\n",
       "  </tbody>\n",
       "</table>\n",
       "<p>1670191 rows × 3 columns</p>\n",
       "</div>"
      ],
      "text/plain": [
       "          session    type                                                aid\n",
       "0        12899779  clicks                                              59625\n",
       "1        12899780  clicks               1142000 582732 973453 736515 1142000\n",
       "3        12899781  clicks   199008 194067 199008 199008 199008 199008 573...\n",
       "5        12899782  clicks   603159 779477 1299062 602722 413962 975116 16...\n",
       "7        12899783  clicks   607638 1729553 255297 300127 1754419 1216820 ...\n",
       "...           ...     ...                                                ...\n",
       "1948868  14571577  clicks                                            1141710\n",
       "1948869  14571578  clicks                                             519105\n",
       "1948870  14571579  clicks                                             739876\n",
       "1948871  14571580  clicks                                             202353\n",
       "1948872  14571581  clicks                                            1100210\n",
       "\n",
       "[1670191 rows x 3 columns]"
      ]
     },
     "execution_count": 25,
     "metadata": {},
     "output_type": "execute_result"
    }
   ],
   "source": [
    "next_clicks_df"
   ]
  },
  {
   "cell_type": "code",
   "execution_count": 26,
   "id": "060f01eb",
   "metadata": {
    "execution": {
     "iopub.execute_input": "2024-06-09T15:37:50.211634Z",
     "iopub.status.busy": "2024-06-09T15:37:50.211185Z",
     "iopub.status.idle": "2024-06-09T15:37:50.617845Z",
     "shell.execute_reply": "2024-06-09T15:37:50.616723Z"
    },
    "papermill": {
     "duration": 0.425537,
     "end_time": "2024-06-09T15:37:50.620885",
     "exception": false,
     "start_time": "2024-06-09T15:37:50.195348",
     "status": "completed"
    },
    "tags": []
   },
   "outputs": [],
   "source": [
    "next_orders_df = pd.merge(next_orders_df,next_clicks_df[['session','aid']],on='session',how='left')"
   ]
  },
  {
   "cell_type": "code",
   "execution_count": 27,
   "id": "e9e4098a",
   "metadata": {
    "execution": {
     "iopub.execute_input": "2024-06-09T15:37:50.650891Z",
     "iopub.status.busy": "2024-06-09T15:37:50.650468Z",
     "iopub.status.idle": "2024-06-09T15:37:50.985630Z",
     "shell.execute_reply": "2024-06-09T15:37:50.984346Z"
    },
    "papermill": {
     "duration": 0.354038,
     "end_time": "2024-06-09T15:37:50.988923",
     "exception": false,
     "start_time": "2024-06-09T15:37:50.634885",
     "status": "completed"
    },
    "tags": []
   },
   "outputs": [],
   "source": [
    "next_orders_df['aid'] = next_orders_df['aid_x'] + next_orders_df['aid_y']\n",
    "next_orders_df = next_orders_df.drop(['aid_x','aid_y'],axis=1)"
   ]
  },
  {
   "cell_type": "code",
   "execution_count": 28,
   "id": "975433a1",
   "metadata": {
    "execution": {
     "iopub.execute_input": "2024-06-09T15:37:51.018570Z",
     "iopub.status.busy": "2024-06-09T15:37:51.018173Z",
     "iopub.status.idle": "2024-06-09T15:37:59.978184Z",
     "shell.execute_reply": "2024-06-09T15:37:59.976827Z"
    },
    "papermill": {
     "duration": 8.978566,
     "end_time": "2024-06-09T15:37:59.981450",
     "exception": false,
     "start_time": "2024-06-09T15:37:51.002884",
     "status": "completed"
    },
    "tags": []
   },
   "outputs": [
    {
     "name": "stderr",
     "output_type": "stream",
     "text": [
      "/tmp/ipykernel_18/3966152075.py:4: FutureWarning: A value is trying to be set on a copy of a DataFrame or Series through chained assignment using an inplace method.\n",
      "The behavior will change in pandas 3.0. This inplace method will never work because the intermediate object on which we are setting values always behaves as a copy.\n",
      "\n",
      "For example, when doing 'df[col].method(value, inplace=True)', try using 'df.method({col: value}, inplace=True)' or df[col] = df[col].method(value) instead, to perform the operation inplace on the original object.\n",
      "\n",
      "\n",
      "  recommend_df['aid'].fillna(best_sold_list,inplace=True)\n"
     ]
    }
   ],
   "source": [
    "recommend_df = pd.concat([next_carts_df,next_clicks_df,next_orders_df],axis=0)\n",
    "recommend_df['session_type'] = recommend_df['session'].astype('str') + '_' + recommend_df['type'].astype('str')\n",
    "recommend_df['aid'] = recommend_df['aid'] + best_sold_list\n",
    "recommend_df['aid'].fillna(best_sold_list,inplace=True)\n",
    "recommend_df['aid'] = recommend_df['aid'].str.strip()"
   ]
  },
  {
   "cell_type": "code",
   "execution_count": 29,
   "id": "8132dc42",
   "metadata": {
    "execution": {
     "iopub.execute_input": "2024-06-09T15:38:00.011060Z",
     "iopub.status.busy": "2024-06-09T15:38:00.010684Z",
     "iopub.status.idle": "2024-06-09T15:38:00.025550Z",
     "shell.execute_reply": "2024-06-09T15:38:00.024348Z"
    },
    "papermill": {
     "duration": 0.032782,
     "end_time": "2024-06-09T15:38:00.028222",
     "exception": false,
     "start_time": "2024-06-09T15:37:59.995440",
     "status": "completed"
    },
    "tags": []
   },
   "outputs": [
    {
     "data": {
      "text/html": [
       "<div>\n",
       "<style scoped>\n",
       "    .dataframe tbody tr th:only-of-type {\n",
       "        vertical-align: middle;\n",
       "    }\n",
       "\n",
       "    .dataframe tbody tr th {\n",
       "        vertical-align: top;\n",
       "    }\n",
       "\n",
       "    .dataframe thead th {\n",
       "        text-align: right;\n",
       "    }\n",
       "</style>\n",
       "<table border=\"1\" class=\"dataframe\">\n",
       "  <thead>\n",
       "    <tr style=\"text-align: right;\">\n",
       "      <th></th>\n",
       "      <th>session</th>\n",
       "      <th>type</th>\n",
       "      <th>aid</th>\n",
       "      <th>session_type</th>\n",
       "    </tr>\n",
       "  </thead>\n",
       "  <tbody>\n",
       "    <tr>\n",
       "      <th>0</th>\n",
       "      <td>12899779</td>\n",
       "      <td>carts</td>\n",
       "      <td>59625 122983 1445562 1462420 1460752 1460571 1...</td>\n",
       "      <td>12899779_carts</td>\n",
       "    </tr>\n",
       "    <tr>\n",
       "      <th>1</th>\n",
       "      <td>12899780</td>\n",
       "      <td>carts</td>\n",
       "      <td>1142000 582732 973453 736515 1142000 122983 14...</td>\n",
       "      <td>12899780_carts</td>\n",
       "    </tr>\n",
       "    <tr>\n",
       "      <th>3</th>\n",
       "      <td>12899781</td>\n",
       "      <td>carts</td>\n",
       "      <td>199008 194067 199008 199008 199008 199008 5731...</td>\n",
       "      <td>12899781_carts</td>\n",
       "    </tr>\n",
       "    <tr>\n",
       "      <th>5</th>\n",
       "      <td>12899782</td>\n",
       "      <td>carts</td>\n",
       "      <td>603159 779477 1299062 602722 413962 975116 166...</td>\n",
       "      <td>12899782_carts</td>\n",
       "    </tr>\n",
       "    <tr>\n",
       "      <th>7</th>\n",
       "      <td>12899783</td>\n",
       "      <td>carts</td>\n",
       "      <td>607638 1729553 255297 300127 1754419 1216820 3...</td>\n",
       "      <td>12899783_carts</td>\n",
       "    </tr>\n",
       "    <tr>\n",
       "      <th>...</th>\n",
       "      <td>...</td>\n",
       "      <td>...</td>\n",
       "      <td>...</td>\n",
       "      <td>...</td>\n",
       "    </tr>\n",
       "    <tr>\n",
       "      <th>242828</th>\n",
       "      <td>14571430</td>\n",
       "      <td>orders</td>\n",
       "      <td>903014 903014 1162324 122983 1445562 1462420 1...</td>\n",
       "      <td>14571430_orders</td>\n",
       "    </tr>\n",
       "    <tr>\n",
       "      <th>242829</th>\n",
       "      <td>14571443</td>\n",
       "      <td>orders</td>\n",
       "      <td>942326 1407032 942326 568535 122983 1445562 14...</td>\n",
       "      <td>14571443_orders</td>\n",
       "    </tr>\n",
       "    <tr>\n",
       "      <th>242830</th>\n",
       "      <td>14571486</td>\n",
       "      <td>orders</td>\n",
       "      <td>350578 350578 350578 122983 1445562 1462420 14...</td>\n",
       "      <td>14571486_orders</td>\n",
       "    </tr>\n",
       "    <tr>\n",
       "      <th>242831</th>\n",
       "      <td>14571499</td>\n",
       "      <td>orders</td>\n",
       "      <td>1132907 1132907 122983 1445562 1462420 1460752...</td>\n",
       "      <td>14571499_orders</td>\n",
       "    </tr>\n",
       "    <tr>\n",
       "      <th>242832</th>\n",
       "      <td>14571534</td>\n",
       "      <td>orders</td>\n",
       "      <td>272221 272221 272221 1152891 122983 1445562 14...</td>\n",
       "      <td>14571534_orders</td>\n",
       "    </tr>\n",
       "  </tbody>\n",
       "</table>\n",
       "<p>3583215 rows × 4 columns</p>\n",
       "</div>"
      ],
      "text/plain": [
       "         session    type                                                aid  \\\n",
       "0       12899779   carts  59625 122983 1445562 1462420 1460752 1460571 1...   \n",
       "1       12899780   carts  1142000 582732 973453 736515 1142000 122983 14...   \n",
       "3       12899781   carts  199008 194067 199008 199008 199008 199008 5731...   \n",
       "5       12899782   carts  603159 779477 1299062 602722 413962 975116 166...   \n",
       "7       12899783   carts  607638 1729553 255297 300127 1754419 1216820 3...   \n",
       "...          ...     ...                                                ...   \n",
       "242828  14571430  orders  903014 903014 1162324 122983 1445562 1462420 1...   \n",
       "242829  14571443  orders  942326 1407032 942326 568535 122983 1445562 14...   \n",
       "242830  14571486  orders  350578 350578 350578 122983 1445562 1462420 14...   \n",
       "242831  14571499  orders  1132907 1132907 122983 1445562 1462420 1460752...   \n",
       "242832  14571534  orders  272221 272221 272221 1152891 122983 1445562 14...   \n",
       "\n",
       "           session_type  \n",
       "0        12899779_carts  \n",
       "1        12899780_carts  \n",
       "3        12899781_carts  \n",
       "5        12899782_carts  \n",
       "7        12899783_carts  \n",
       "...                 ...  \n",
       "242828  14571430_orders  \n",
       "242829  14571443_orders  \n",
       "242830  14571486_orders  \n",
       "242831  14571499_orders  \n",
       "242832  14571534_orders  \n",
       "\n",
       "[3583215 rows x 4 columns]"
      ]
     },
     "execution_count": 29,
     "metadata": {},
     "output_type": "execute_result"
    }
   ],
   "source": [
    "recommend_df"
   ]
  },
  {
   "cell_type": "code",
   "execution_count": 30,
   "id": "8358e97b",
   "metadata": {
    "execution": {
     "iopub.execute_input": "2024-06-09T15:38:00.059545Z",
     "iopub.status.busy": "2024-06-09T15:38:00.059138Z",
     "iopub.status.idle": "2024-06-09T15:38:01.137457Z",
     "shell.execute_reply": "2024-06-09T15:38:01.136320Z"
    },
    "papermill": {
     "duration": 1.097453,
     "end_time": "2024-06-09T15:38:01.140532",
     "exception": false,
     "start_time": "2024-06-09T15:38:00.043079",
     "status": "completed"
    },
    "tags": []
   },
   "outputs": [],
   "source": [
    "final_df = recommend_df[['session_type','aid']]\n",
    "final_df = final_df.rename(columns={'aid':'labels'})"
   ]
  },
  {
   "cell_type": "code",
   "execution_count": 31,
   "id": "cfd19bf3",
   "metadata": {
    "execution": {
     "iopub.execute_input": "2024-06-09T15:38:01.171226Z",
     "iopub.status.busy": "2024-06-09T15:38:01.170277Z",
     "iopub.status.idle": "2024-06-09T15:38:01.182379Z",
     "shell.execute_reply": "2024-06-09T15:38:01.181245Z"
    },
    "papermill": {
     "duration": 0.029818,
     "end_time": "2024-06-09T15:38:01.184677",
     "exception": false,
     "start_time": "2024-06-09T15:38:01.154859",
     "status": "completed"
    },
    "tags": []
   },
   "outputs": [
    {
     "data": {
      "text/html": [
       "<div>\n",
       "<style scoped>\n",
       "    .dataframe tbody tr th:only-of-type {\n",
       "        vertical-align: middle;\n",
       "    }\n",
       "\n",
       "    .dataframe tbody tr th {\n",
       "        vertical-align: top;\n",
       "    }\n",
       "\n",
       "    .dataframe thead th {\n",
       "        text-align: right;\n",
       "    }\n",
       "</style>\n",
       "<table border=\"1\" class=\"dataframe\">\n",
       "  <thead>\n",
       "    <tr style=\"text-align: right;\">\n",
       "      <th></th>\n",
       "      <th>session_type</th>\n",
       "      <th>labels</th>\n",
       "    </tr>\n",
       "  </thead>\n",
       "  <tbody>\n",
       "    <tr>\n",
       "      <th>0</th>\n",
       "      <td>12899779_carts</td>\n",
       "      <td>59625 122983 1445562 1462420 1460752 1460571 1...</td>\n",
       "    </tr>\n",
       "    <tr>\n",
       "      <th>1</th>\n",
       "      <td>12899780_carts</td>\n",
       "      <td>1142000 582732 973453 736515 1142000 122983 14...</td>\n",
       "    </tr>\n",
       "    <tr>\n",
       "      <th>3</th>\n",
       "      <td>12899781_carts</td>\n",
       "      <td>199008 194067 199008 199008 199008 199008 5731...</td>\n",
       "    </tr>\n",
       "    <tr>\n",
       "      <th>5</th>\n",
       "      <td>12899782_carts</td>\n",
       "      <td>603159 779477 1299062 602722 413962 975116 166...</td>\n",
       "    </tr>\n",
       "    <tr>\n",
       "      <th>7</th>\n",
       "      <td>12899783_carts</td>\n",
       "      <td>607638 1729553 255297 300127 1754419 1216820 3...</td>\n",
       "    </tr>\n",
       "    <tr>\n",
       "      <th>...</th>\n",
       "      <td>...</td>\n",
       "      <td>...</td>\n",
       "    </tr>\n",
       "    <tr>\n",
       "      <th>242828</th>\n",
       "      <td>14571430_orders</td>\n",
       "      <td>903014 903014 1162324 122983 1445562 1462420 1...</td>\n",
       "    </tr>\n",
       "    <tr>\n",
       "      <th>242829</th>\n",
       "      <td>14571443_orders</td>\n",
       "      <td>942326 1407032 942326 568535 122983 1445562 14...</td>\n",
       "    </tr>\n",
       "    <tr>\n",
       "      <th>242830</th>\n",
       "      <td>14571486_orders</td>\n",
       "      <td>350578 350578 350578 122983 1445562 1462420 14...</td>\n",
       "    </tr>\n",
       "    <tr>\n",
       "      <th>242831</th>\n",
       "      <td>14571499_orders</td>\n",
       "      <td>1132907 1132907 122983 1445562 1462420 1460752...</td>\n",
       "    </tr>\n",
       "    <tr>\n",
       "      <th>242832</th>\n",
       "      <td>14571534_orders</td>\n",
       "      <td>272221 272221 272221 1152891 122983 1445562 14...</td>\n",
       "    </tr>\n",
       "  </tbody>\n",
       "</table>\n",
       "<p>3583215 rows × 2 columns</p>\n",
       "</div>"
      ],
      "text/plain": [
       "           session_type                                             labels\n",
       "0        12899779_carts  59625 122983 1445562 1462420 1460752 1460571 1...\n",
       "1        12899780_carts  1142000 582732 973453 736515 1142000 122983 14...\n",
       "3        12899781_carts  199008 194067 199008 199008 199008 199008 5731...\n",
       "5        12899782_carts  603159 779477 1299062 602722 413962 975116 166...\n",
       "7        12899783_carts  607638 1729553 255297 300127 1754419 1216820 3...\n",
       "...                 ...                                                ...\n",
       "242828  14571430_orders  903014 903014 1162324 122983 1445562 1462420 1...\n",
       "242829  14571443_orders  942326 1407032 942326 568535 122983 1445562 14...\n",
       "242830  14571486_orders  350578 350578 350578 122983 1445562 1462420 14...\n",
       "242831  14571499_orders  1132907 1132907 122983 1445562 1462420 1460752...\n",
       "242832  14571534_orders  272221 272221 272221 1152891 122983 1445562 14...\n",
       "\n",
       "[3583215 rows x 2 columns]"
      ]
     },
     "execution_count": 31,
     "metadata": {},
     "output_type": "execute_result"
    }
   ],
   "source": [
    "final_df"
   ]
  },
  {
   "cell_type": "code",
   "execution_count": 32,
   "id": "27486126",
   "metadata": {
    "execution": {
     "iopub.execute_input": "2024-06-09T15:38:01.215886Z",
     "iopub.status.busy": "2024-06-09T15:38:01.215071Z",
     "iopub.status.idle": "2024-06-09T15:38:40.184880Z",
     "shell.execute_reply": "2024-06-09T15:38:40.183843Z"
    },
    "papermill": {
     "duration": 38.988574,
     "end_time": "2024-06-09T15:38:40.188005",
     "exception": false,
     "start_time": "2024-06-09T15:38:01.199431",
     "status": "completed"
    },
    "tags": []
   },
   "outputs": [],
   "source": [
    "final_df.to_csv('submission.csv',index=False)"
   ]
  }
 ],
 "metadata": {
  "kaggle": {
   "accelerator": "none",
   "dataSources": [
    {
     "databundleVersionId": 4493939,
     "sourceId": 38760,
     "sourceType": "competition"
    }
   ],
   "dockerImageVersionId": 30733,
   "isGpuEnabled": false,
   "isInternetEnabled": true,
   "language": "python",
   "sourceType": "notebook"
  },
  "kernelspec": {
   "display_name": "Python 3",
   "language": "python",
   "name": "python3"
  },
  "language_info": {
   "codemirror_mode": {
    "name": "ipython",
    "version": 3
   },
   "file_extension": ".py",
   "mimetype": "text/x-python",
   "name": "python",
   "nbconvert_exporter": "python",
   "pygments_lexer": "ipython3",
   "version": "3.10.13"
  },
  "papermill": {
   "default_parameters": {},
   "duration": 1658.383423,
   "end_time": "2024-06-09T15:38:42.931652",
   "environment_variables": {},
   "exception": null,
   "input_path": "__notebook__.ipynb",
   "output_path": "__notebook__.ipynb",
   "parameters": {},
   "start_time": "2024-06-09T15:11:04.548229",
   "version": "2.5.0"
  }
 },
 "nbformat": 4,
 "nbformat_minor": 5
}
